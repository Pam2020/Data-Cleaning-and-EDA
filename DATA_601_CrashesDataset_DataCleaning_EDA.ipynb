{
  "nbformat": 4,
  "nbformat_minor": 0,
  "metadata": {
    "colab": {
      "name": "DATA 601 Project EDA.ipynb",
      "provenance": []
    },
    "kernelspec": {
      "name": "python3",
      "display_name": "Python 3"
    },
    "language_info": {
      "name": "python"
    }
  },
  "cells": [
    {
      "cell_type": "markdown",
      "source": [
        "#Prelimnary Data Cleaning and EDA for the Vehicles dataset"
      ],
      "metadata": {
        "id": "jja9Y6p6qPMh"
      }
    },
    {
      "cell_type": "code",
      "metadata": {
        "id": "ZyAwBsC21vJf"
      },
      "source": [
        "import pandas as pd\n",
        "import matplotlib.pyplot as plt\n",
        "import numpy as np"
      ],
      "execution_count": null,
      "outputs": []
    },
    {
      "cell_type": "code",
      "metadata": {
        "colab": {
          "base_uri": "https://localhost:8080/"
        },
        "id": "kfyLoIGo4V9p",
        "outputId": "50c91612-69f4-462d-baca-2c1d08a151a7"
      },
      "source": [
        "# Loading the three datasets from the csv files\n",
        "vehicles = pd.read_csv('/content/Maryland_Statewide_Vehicle_Crashes_-_Vehicle_Details.csv')\n",
        "crashes = pd.read_csv('/content/Maryland_Statewide_Vehicle_Crashes.csv')\n",
        "persons = pd.read_csv('/content/Maryland_Statewide_Vehicle_Crashes_-_Person_Details__Anonymized_.csv')"
      ],
      "execution_count": null,
      "outputs": [
        {
          "output_type": "stream",
          "name": "stderr",
          "text": [
            "/usr/local/lib/python3.7/dist-packages/IPython/core/interactiveshell.py:2718: DtypeWarning: Columns (34,46) have mixed types.Specify dtype option on import or set low_memory=False.\n",
            "  interactivity=interactivity, compiler=compiler, result=result)\n",
            "/usr/local/lib/python3.7/dist-packages/IPython/core/interactiveshell.py:2718: DtypeWarning: Columns (37) have mixed types.Specify dtype option on import or set low_memory=False.\n",
            "  interactivity=interactivity, compiler=compiler, result=result)\n"
          ]
        }
      ]
    },
    {
      "cell_type": "markdown",
      "metadata": {
        "id": "5Wl5UU2MJHRJ"
      },
      "source": [
        "## Data Cleaning"
      ]
    },
    {
      "cell_type": "markdown",
      "source": [
        "#### Viewing the data"
      ],
      "metadata": {
        "id": "IPqUjuYCqwkL"
      }
    },
    {
      "cell_type": "code",
      "metadata": {
        "id": "eKfBdPeF4jcE",
        "colab": {
          "base_uri": "https://localhost:8080/"
        },
        "outputId": "a1fd3ad0-856a-4da0-eb88-bd09ec7f69bc"
      },
      "source": [
        "vehicles.columns"
      ],
      "execution_count": null,
      "outputs": [
        {
          "output_type": "execute_result",
          "data": {
            "text/plain": [
              "Index(['HARM_EVENT_DESC', 'HARM_EVENT_CODE', 'CONTI_DIRECTION_DESC',\n",
              "       'CONTI_DIRECTION_CODE', 'DAMAGE_DESC', 'DAMAGE_CODE', 'MOVEMENT_DESC',\n",
              "       'MOVEMENT_CODE', 'VIN_NO', 'REPORT_NO', 'CV_BODY_TYPE_DESC',\n",
              "       'CV_BODY_TYPE_CODE', 'VEH_YEAR', 'VEH_MAKE', 'VEH_MODEL',\n",
              "       'COMMERCIAL_FLAG_DESC', 'COMMERCIAL_FLAG', 'HZM_NUM',\n",
              "       'TOWED_AWAY_FLAG_DESC', 'TOWED_AWAY_FLAG', 'NUM_AXLES', 'GVW_DESC',\n",
              "       'GVW_CODE', 'GOING_DIRECTION_DESC', 'GOING_DIRECTION_CODE',\n",
              "       'BODY_TYPE_DESC', 'BODY_TYPE_CODE', 'DRIVERLESS_FLAG_DESC',\n",
              "       'DRIVERLESS_FLAG', 'FIRE_FLAG_DESC', 'FIRE_FLAG', 'PARKED_FLAG_DESC',\n",
              "       'PARKED_FLAG', 'SPEED_LIMIT', 'HIT_AND_RUN_FLAG_DESC',\n",
              "       'HIT_AND_RUN_FLAG', 'HAZMAT_SPILL_FLAG_DESC', 'HAZMAT_SPILL_FLAG',\n",
              "       'VEHICLE_ID', 'TOWED_VEHICLE_CONFIG_DESC', 'TOWED_VEHICLE_CONFIG_CODE',\n",
              "       'AREA_DAMAGED_CODE_IMP1', 'AREA_DAMAGED_CODE1', 'AREA_DAMAGED_CODE2',\n",
              "       'AREA_DAMAGED_CODE3', 'AREA_DAMAGED_CODE_MAIN_DESC',\n",
              "       'AREA_DAMAGED_CODE_MAIN', 'YEAR', 'Quarter'],\n",
              "      dtype='object')"
            ]
          },
          "metadata": {},
          "execution_count": 145
        }
      ]
    },
    {
      "cell_type": "code",
      "metadata": {
        "id": "hzgmyCjh4rHC",
        "colab": {
          "base_uri": "https://localhost:8080/",
          "height": 469
        },
        "outputId": "7f3c4a59-7e71-4874-afc5-5ea400582469"
      },
      "source": [
        "# Viewing the top 5 rows of the dataset\n",
        "vehicles.head()"
      ],
      "execution_count": null,
      "outputs": [
        {
          "output_type": "execute_result",
          "data": {
            "text/html": [
              "<div>\n",
              "<style scoped>\n",
              "    .dataframe tbody tr th:only-of-type {\n",
              "        vertical-align: middle;\n",
              "    }\n",
              "\n",
              "    .dataframe tbody tr th {\n",
              "        vertical-align: top;\n",
              "    }\n",
              "\n",
              "    .dataframe thead th {\n",
              "        text-align: right;\n",
              "    }\n",
              "</style>\n",
              "<table border=\"1\" class=\"dataframe\">\n",
              "  <thead>\n",
              "    <tr style=\"text-align: right;\">\n",
              "      <th></th>\n",
              "      <th>HARM_EVENT_DESC</th>\n",
              "      <th>HARM_EVENT_CODE</th>\n",
              "      <th>CONTI_DIRECTION_DESC</th>\n",
              "      <th>CONTI_DIRECTION_CODE</th>\n",
              "      <th>DAMAGE_DESC</th>\n",
              "      <th>DAMAGE_CODE</th>\n",
              "      <th>MOVEMENT_DESC</th>\n",
              "      <th>MOVEMENT_CODE</th>\n",
              "      <th>VIN_NO</th>\n",
              "      <th>REPORT_NO</th>\n",
              "      <th>CV_BODY_TYPE_DESC</th>\n",
              "      <th>CV_BODY_TYPE_CODE</th>\n",
              "      <th>VEH_YEAR</th>\n",
              "      <th>VEH_MAKE</th>\n",
              "      <th>VEH_MODEL</th>\n",
              "      <th>COMMERCIAL_FLAG_DESC</th>\n",
              "      <th>COMMERCIAL_FLAG</th>\n",
              "      <th>HZM_NUM</th>\n",
              "      <th>TOWED_AWAY_FLAG_DESC</th>\n",
              "      <th>TOWED_AWAY_FLAG</th>\n",
              "      <th>NUM_AXLES</th>\n",
              "      <th>GVW_DESC</th>\n",
              "      <th>GVW_CODE</th>\n",
              "      <th>GOING_DIRECTION_DESC</th>\n",
              "      <th>GOING_DIRECTION_CODE</th>\n",
              "      <th>BODY_TYPE_DESC</th>\n",
              "      <th>BODY_TYPE_CODE</th>\n",
              "      <th>DRIVERLESS_FLAG_DESC</th>\n",
              "      <th>DRIVERLESS_FLAG</th>\n",
              "      <th>FIRE_FLAG_DESC</th>\n",
              "      <th>FIRE_FLAG</th>\n",
              "      <th>PARKED_FLAG_DESC</th>\n",
              "      <th>PARKED_FLAG</th>\n",
              "      <th>SPEED_LIMIT</th>\n",
              "      <th>HIT_AND_RUN_FLAG_DESC</th>\n",
              "      <th>HIT_AND_RUN_FLAG</th>\n",
              "      <th>HAZMAT_SPILL_FLAG_DESC</th>\n",
              "      <th>HAZMAT_SPILL_FLAG</th>\n",
              "      <th>VEHICLE_ID</th>\n",
              "      <th>TOWED_VEHICLE_CONFIG_DESC</th>\n",
              "      <th>TOWED_VEHICLE_CONFIG_CODE</th>\n",
              "      <th>AREA_DAMAGED_CODE_IMP1</th>\n",
              "      <th>AREA_DAMAGED_CODE1</th>\n",
              "      <th>AREA_DAMAGED_CODE2</th>\n",
              "      <th>AREA_DAMAGED_CODE3</th>\n",
              "      <th>AREA_DAMAGED_CODE_MAIN_DESC</th>\n",
              "      <th>AREA_DAMAGED_CODE_MAIN</th>\n",
              "      <th>YEAR</th>\n",
              "      <th>Quarter</th>\n",
              "    </tr>\n",
              "  </thead>\n",
              "  <tbody>\n",
              "    <tr>\n",
              "      <th>0</th>\n",
              "      <td>Other Vehicle</td>\n",
              "      <td>1.0</td>\n",
              "      <td>North</td>\n",
              "      <td>N</td>\n",
              "      <td>Unknown</td>\n",
              "      <td>99</td>\n",
              "      <td>Unknown</td>\n",
              "      <td>99.0</td>\n",
              "      <td>NaN</td>\n",
              "      <td>AE5057004X</td>\n",
              "      <td>NaN</td>\n",
              "      <td>NaN</td>\n",
              "      <td>NaN</td>\n",
              "      <td>UNKNOWN</td>\n",
              "      <td>UNKNOWN</td>\n",
              "      <td>No</td>\n",
              "      <td>N</td>\n",
              "      <td>NaN</td>\n",
              "      <td>No</td>\n",
              "      <td>N</td>\n",
              "      <td>NaN</td>\n",
              "      <td>NaN</td>\n",
              "      <td>NaN</td>\n",
              "      <td>North</td>\n",
              "      <td>N</td>\n",
              "      <td>NaN</td>\n",
              "      <td>NaN</td>\n",
              "      <td>NaN</td>\n",
              "      <td>U</td>\n",
              "      <td>No</td>\n",
              "      <td>N</td>\n",
              "      <td>No</td>\n",
              "      <td>N</td>\n",
              "      <td>25</td>\n",
              "      <td>Yes</td>\n",
              "      <td>Y</td>\n",
              "      <td>NaN</td>\n",
              "      <td>NaN</td>\n",
              "      <td>47e2531d-8c69-470c-9198-502a46c7639e</td>\n",
              "      <td>Unknown</td>\n",
              "      <td>99</td>\n",
              "      <td>11.0</td>\n",
              "      <td>10.0</td>\n",
              "      <td>11.0</td>\n",
              "      <td>12.0</td>\n",
              "      <td>Eleven o'clock</td>\n",
              "      <td>11.0</td>\n",
              "      <td>2020</td>\n",
              "      <td>Q2</td>\n",
              "    </tr>\n",
              "    <tr>\n",
              "      <th>1</th>\n",
              "      <td>Other Vehicle</td>\n",
              "      <td>1.0</td>\n",
              "      <td>North</td>\n",
              "      <td>N</td>\n",
              "      <td>Superficial</td>\n",
              "      <td>2</td>\n",
              "      <td>Moving Constant Speed</td>\n",
              "      <td>1.0</td>\n",
              "      <td>NMTKHMBX0JR025092</td>\n",
              "      <td>MSP7221001P</td>\n",
              "      <td>NaN</td>\n",
              "      <td>NaN</td>\n",
              "      <td>2018.0</td>\n",
              "      <td>TOYOTA</td>\n",
              "      <td>CAMRY</td>\n",
              "      <td>No</td>\n",
              "      <td>N</td>\n",
              "      <td>NaN</td>\n",
              "      <td>No</td>\n",
              "      <td>N</td>\n",
              "      <td>NaN</td>\n",
              "      <td>NaN</td>\n",
              "      <td>NaN</td>\n",
              "      <td>North</td>\n",
              "      <td>N</td>\n",
              "      <td>Passenger Car</td>\n",
              "      <td>2.00</td>\n",
              "      <td>No</td>\n",
              "      <td>N</td>\n",
              "      <td>No</td>\n",
              "      <td>N</td>\n",
              "      <td>No</td>\n",
              "      <td>N</td>\n",
              "      <td>55</td>\n",
              "      <td>No</td>\n",
              "      <td>N</td>\n",
              "      <td>NaN</td>\n",
              "      <td>NaN</td>\n",
              "      <td>0dbd4a00-c7f2-4c34-b543-c2633fe0118f</td>\n",
              "      <td>Not Applicable</td>\n",
              "      <td>0</td>\n",
              "      <td>12.0</td>\n",
              "      <td>6.0</td>\n",
              "      <td>12.0</td>\n",
              "      <td>NaN</td>\n",
              "      <td>Twelve o'clock</td>\n",
              "      <td>12.0</td>\n",
              "      <td>2020</td>\n",
              "      <td>Q2</td>\n",
              "    </tr>\n",
              "    <tr>\n",
              "      <th>2</th>\n",
              "      <td>Other Vehicle</td>\n",
              "      <td>1.0</td>\n",
              "      <td>South</td>\n",
              "      <td>S</td>\n",
              "      <td>Functional</td>\n",
              "      <td>3</td>\n",
              "      <td>Stopped in Traffic Lane</td>\n",
              "      <td>6.0</td>\n",
              "      <td>2GNAXPEX5K6103012</td>\n",
              "      <td>DA37010040</td>\n",
              "      <td>NaN</td>\n",
              "      <td>NaN</td>\n",
              "      <td>2019.0</td>\n",
              "      <td>CHEVROLET</td>\n",
              "      <td>EQUINOX</td>\n",
              "      <td>No</td>\n",
              "      <td>N</td>\n",
              "      <td>NaN</td>\n",
              "      <td>No</td>\n",
              "      <td>N</td>\n",
              "      <td>NaN</td>\n",
              "      <td>NaN</td>\n",
              "      <td>NaN</td>\n",
              "      <td>South</td>\n",
              "      <td>S</td>\n",
              "      <td>(Sport) Utility Vehicle</td>\n",
              "      <td>23.08</td>\n",
              "      <td>No</td>\n",
              "      <td>N</td>\n",
              "      <td>No</td>\n",
              "      <td>N</td>\n",
              "      <td>No</td>\n",
              "      <td>N</td>\n",
              "      <td>30</td>\n",
              "      <td>No</td>\n",
              "      <td>N</td>\n",
              "      <td>NaN</td>\n",
              "      <td>NaN</td>\n",
              "      <td>f2c0d05c-ff70-4549-9d48-57c182eae6f2</td>\n",
              "      <td>Not Applicable</td>\n",
              "      <td>0</td>\n",
              "      <td>6.0</td>\n",
              "      <td>6.0</td>\n",
              "      <td>NaN</td>\n",
              "      <td>NaN</td>\n",
              "      <td>Six o'clock</td>\n",
              "      <td>6.0</td>\n",
              "      <td>2020</td>\n",
              "      <td>Q2</td>\n",
              "    </tr>\n",
              "    <tr>\n",
              "      <th>3</th>\n",
              "      <td>Fixed Object</td>\n",
              "      <td>9.0</td>\n",
              "      <td>Unknown</td>\n",
              "      <td>U</td>\n",
              "      <td>Unknown</td>\n",
              "      <td>99</td>\n",
              "      <td>Not Applicable</td>\n",
              "      <td>0.0</td>\n",
              "      <td>NaN</td>\n",
              "      <td>MDTA1791002C</td>\n",
              "      <td>NaN</td>\n",
              "      <td>NaN</td>\n",
              "      <td>NaN</td>\n",
              "      <td>UNKNOWN</td>\n",
              "      <td>UNKNOWN</td>\n",
              "      <td>No</td>\n",
              "      <td>N</td>\n",
              "      <td>NaN</td>\n",
              "      <td>No</td>\n",
              "      <td>N</td>\n",
              "      <td>NaN</td>\n",
              "      <td>NaN</td>\n",
              "      <td>NaN</td>\n",
              "      <td>Unknown</td>\n",
              "      <td>U</td>\n",
              "      <td>NaN</td>\n",
              "      <td>NaN</td>\n",
              "      <td>No</td>\n",
              "      <td>N</td>\n",
              "      <td>No</td>\n",
              "      <td>N</td>\n",
              "      <td>No</td>\n",
              "      <td>N</td>\n",
              "      <td>35</td>\n",
              "      <td>Yes</td>\n",
              "      <td>Y</td>\n",
              "      <td>NaN</td>\n",
              "      <td>NaN</td>\n",
              "      <td>5a55c4ee-17e9-4eed-bfe9-f5aca18f5b9e</td>\n",
              "      <td>Not Applicable</td>\n",
              "      <td>0</td>\n",
              "      <td>99.0</td>\n",
              "      <td>99.0</td>\n",
              "      <td>NaN</td>\n",
              "      <td>NaN</td>\n",
              "      <td>Unknown</td>\n",
              "      <td>99.0</td>\n",
              "      <td>2020</td>\n",
              "      <td>Q2</td>\n",
              "    </tr>\n",
              "    <tr>\n",
              "      <th>4</th>\n",
              "      <td>Other Vehicle</td>\n",
              "      <td>1.0</td>\n",
              "      <td>East</td>\n",
              "      <td>E</td>\n",
              "      <td>Disabling</td>\n",
              "      <td>4</td>\n",
              "      <td>Slowing or Stopping</td>\n",
              "      <td>3.0</td>\n",
              "      <td>5FNRL18672B048550</td>\n",
              "      <td>AE456100BL</td>\n",
              "      <td>NaN</td>\n",
              "      <td>NaN</td>\n",
              "      <td>2002.0</td>\n",
              "      <td>HONDA</td>\n",
              "      <td>VAN</td>\n",
              "      <td>No</td>\n",
              "      <td>N</td>\n",
              "      <td>NaN</td>\n",
              "      <td>Yes</td>\n",
              "      <td>Y</td>\n",
              "      <td>NaN</td>\n",
              "      <td>NaN</td>\n",
              "      <td>NaN</td>\n",
              "      <td>East</td>\n",
              "      <td>E</td>\n",
              "      <td>Passenger Car</td>\n",
              "      <td>2.00</td>\n",
              "      <td>No</td>\n",
              "      <td>N</td>\n",
              "      <td>No</td>\n",
              "      <td>N</td>\n",
              "      <td>No</td>\n",
              "      <td>N</td>\n",
              "      <td>35</td>\n",
              "      <td>No</td>\n",
              "      <td>N</td>\n",
              "      <td>NaN</td>\n",
              "      <td>NaN</td>\n",
              "      <td>23d968b0-be0e-4810-b6f0-34ef33fd7112</td>\n",
              "      <td>Not Applicable</td>\n",
              "      <td>0</td>\n",
              "      <td>6.0</td>\n",
              "      <td>6.0</td>\n",
              "      <td>12.0</td>\n",
              "      <td>NaN</td>\n",
              "      <td>Six o'clock</td>\n",
              "      <td>6.0</td>\n",
              "      <td>2020</td>\n",
              "      <td>Q2</td>\n",
              "    </tr>\n",
              "  </tbody>\n",
              "</table>\n",
              "</div>"
            ],
            "text/plain": [
              "  HARM_EVENT_DESC  HARM_EVENT_CODE  ...  YEAR Quarter\n",
              "0   Other Vehicle              1.0  ...  2020      Q2\n",
              "1   Other Vehicle              1.0  ...  2020      Q2\n",
              "2   Other Vehicle              1.0  ...  2020      Q2\n",
              "3    Fixed Object              9.0  ...  2020      Q2\n",
              "4   Other Vehicle              1.0  ...  2020      Q2\n",
              "\n",
              "[5 rows x 49 columns]"
            ]
          },
          "metadata": {},
          "execution_count": 146
        }
      ]
    },
    {
      "cell_type": "code",
      "metadata": {
        "id": "zND2Q0UTVp6P",
        "colab": {
          "base_uri": "https://localhost:8080/"
        },
        "outputId": "ff6c5671-83f9-442a-c26c-fcafd5e73e8f"
      },
      "source": [
        "# Checking the shape of the dataframe\n",
        "vehicles.shape\n",
        "# 1334649 total rows"
      ],
      "execution_count": null,
      "outputs": [
        {
          "output_type": "execute_result",
          "data": {
            "text/plain": [
              "(1334649, 49)"
            ]
          },
          "metadata": {},
          "execution_count": 147
        }
      ]
    },
    {
      "cell_type": "markdown",
      "source": [
        "#### Checking for any duplicate rows in the dataset"
      ],
      "metadata": {
        "id": "LdT9xUkgq3Ey"
      }
    },
    {
      "cell_type": "code",
      "metadata": {
        "id": "9UlYIMjmV5XB",
        "colab": {
          "base_uri": "https://localhost:8080/",
          "height": 69
        },
        "outputId": "41696296-e458-4160-bfed-11b1996db080"
      },
      "source": [
        "vehicles[vehicles.duplicated(keep=False)]"
      ],
      "execution_count": null,
      "outputs": [
        {
          "output_type": "execute_result",
          "data": {
            "text/html": [
              "<div>\n",
              "<style scoped>\n",
              "    .dataframe tbody tr th:only-of-type {\n",
              "        vertical-align: middle;\n",
              "    }\n",
              "\n",
              "    .dataframe tbody tr th {\n",
              "        vertical-align: top;\n",
              "    }\n",
              "\n",
              "    .dataframe thead th {\n",
              "        text-align: right;\n",
              "    }\n",
              "</style>\n",
              "<table border=\"1\" class=\"dataframe\">\n",
              "  <thead>\n",
              "    <tr style=\"text-align: right;\">\n",
              "      <th></th>\n",
              "      <th>HARM_EVENT_DESC</th>\n",
              "      <th>HARM_EVENT_CODE</th>\n",
              "      <th>CONTI_DIRECTION_DESC</th>\n",
              "      <th>CONTI_DIRECTION_CODE</th>\n",
              "      <th>DAMAGE_DESC</th>\n",
              "      <th>DAMAGE_CODE</th>\n",
              "      <th>MOVEMENT_DESC</th>\n",
              "      <th>MOVEMENT_CODE</th>\n",
              "      <th>VIN_NO</th>\n",
              "      <th>REPORT_NO</th>\n",
              "      <th>CV_BODY_TYPE_DESC</th>\n",
              "      <th>CV_BODY_TYPE_CODE</th>\n",
              "      <th>VEH_YEAR</th>\n",
              "      <th>VEH_MAKE</th>\n",
              "      <th>VEH_MODEL</th>\n",
              "      <th>COMMERCIAL_FLAG_DESC</th>\n",
              "      <th>COMMERCIAL_FLAG</th>\n",
              "      <th>HZM_NUM</th>\n",
              "      <th>TOWED_AWAY_FLAG_DESC</th>\n",
              "      <th>TOWED_AWAY_FLAG</th>\n",
              "      <th>NUM_AXLES</th>\n",
              "      <th>GVW_DESC</th>\n",
              "      <th>GVW_CODE</th>\n",
              "      <th>GOING_DIRECTION_DESC</th>\n",
              "      <th>GOING_DIRECTION_CODE</th>\n",
              "      <th>BODY_TYPE_DESC</th>\n",
              "      <th>BODY_TYPE_CODE</th>\n",
              "      <th>DRIVERLESS_FLAG_DESC</th>\n",
              "      <th>DRIVERLESS_FLAG</th>\n",
              "      <th>FIRE_FLAG_DESC</th>\n",
              "      <th>FIRE_FLAG</th>\n",
              "      <th>PARKED_FLAG_DESC</th>\n",
              "      <th>PARKED_FLAG</th>\n",
              "      <th>SPEED_LIMIT</th>\n",
              "      <th>HIT_AND_RUN_FLAG_DESC</th>\n",
              "      <th>HIT_AND_RUN_FLAG</th>\n",
              "      <th>HAZMAT_SPILL_FLAG_DESC</th>\n",
              "      <th>HAZMAT_SPILL_FLAG</th>\n",
              "      <th>VEHICLE_ID</th>\n",
              "      <th>TOWED_VEHICLE_CONFIG_DESC</th>\n",
              "      <th>TOWED_VEHICLE_CONFIG_CODE</th>\n",
              "      <th>AREA_DAMAGED_CODE_IMP1</th>\n",
              "      <th>AREA_DAMAGED_CODE1</th>\n",
              "      <th>AREA_DAMAGED_CODE2</th>\n",
              "      <th>AREA_DAMAGED_CODE3</th>\n",
              "      <th>AREA_DAMAGED_CODE_MAIN_DESC</th>\n",
              "      <th>AREA_DAMAGED_CODE_MAIN</th>\n",
              "      <th>YEAR</th>\n",
              "      <th>Quarter</th>\n",
              "    </tr>\n",
              "  </thead>\n",
              "  <tbody>\n",
              "  </tbody>\n",
              "</table>\n",
              "</div>"
            ],
            "text/plain": [
              "Empty DataFrame\n",
              "Columns: [HARM_EVENT_DESC, HARM_EVENT_CODE, CONTI_DIRECTION_DESC, CONTI_DIRECTION_CODE, DAMAGE_DESC, DAMAGE_CODE, MOVEMENT_DESC, MOVEMENT_CODE, VIN_NO, REPORT_NO, CV_BODY_TYPE_DESC, CV_BODY_TYPE_CODE, VEH_YEAR, VEH_MAKE, VEH_MODEL, COMMERCIAL_FLAG_DESC, COMMERCIAL_FLAG, HZM_NUM, TOWED_AWAY_FLAG_DESC, TOWED_AWAY_FLAG, NUM_AXLES, GVW_DESC, GVW_CODE, GOING_DIRECTION_DESC, GOING_DIRECTION_CODE, BODY_TYPE_DESC, BODY_TYPE_CODE, DRIVERLESS_FLAG_DESC, DRIVERLESS_FLAG, FIRE_FLAG_DESC, FIRE_FLAG, PARKED_FLAG_DESC, PARKED_FLAG, SPEED_LIMIT, HIT_AND_RUN_FLAG_DESC, HIT_AND_RUN_FLAG, HAZMAT_SPILL_FLAG_DESC, HAZMAT_SPILL_FLAG, VEHICLE_ID, TOWED_VEHICLE_CONFIG_DESC, TOWED_VEHICLE_CONFIG_CODE, AREA_DAMAGED_CODE_IMP1, AREA_DAMAGED_CODE1, AREA_DAMAGED_CODE2, AREA_DAMAGED_CODE3, AREA_DAMAGED_CODE_MAIN_DESC, AREA_DAMAGED_CODE_MAIN, YEAR, Quarter]\n",
              "Index: []"
            ]
          },
          "metadata": {},
          "execution_count": 148
        }
      ]
    },
    {
      "cell_type": "markdown",
      "source": [
        "##### There are no dupicate rows in the dataset. "
      ],
      "metadata": {
        "id": "n3iNkOMprUDn"
      }
    },
    {
      "cell_type": "markdown",
      "source": [
        "#### Checking for common columns in the three datasets "
      ],
      "metadata": {
        "id": "Hu8TRSserAJa"
      }
    },
    {
      "cell_type": "code",
      "metadata": {
        "id": "oZqiE-2k_0JX",
        "colab": {
          "base_uri": "https://localhost:8080/"
        },
        "outputId": "72bbfe13-c84e-4c6a-acbe-ec48944617ea"
      },
      "source": [
        "vehicles.columns.str.upper() & crashes.columns.str.upper() & persons.columns.str.upper()"
      ],
      "execution_count": null,
      "outputs": [
        {
          "output_type": "execute_result",
          "data": {
            "text/plain": [
              "Index(['REPORT_NO', 'YEAR', 'QUARTER'], dtype='object')"
            ]
          },
          "metadata": {},
          "execution_count": 149
        }
      ]
    },
    {
      "cell_type": "code",
      "metadata": {
        "id": "vnthzDA-LIvq",
        "colab": {
          "base_uri": "https://localhost:8080/"
        },
        "outputId": "dad55e45-1c86-4406-df19-df31ba6089e5"
      },
      "source": [
        "vehicles.columns.str.lower() & persons.columns.str.lower()"
      ],
      "execution_count": null,
      "outputs": [
        {
          "output_type": "execute_result",
          "data": {
            "text/plain": [
              "Index(['movement_desc', 'movement_code', 'report_no', 'vehicle_id', 'year',\n",
              "       'quarter'],\n",
              "      dtype='object')"
            ]
          },
          "metadata": {},
          "execution_count": 150
        }
      ]
    },
    {
      "cell_type": "code",
      "source": [
        "vehicles.columns.str.lower() & crashes.columns.str.lower()"
      ],
      "metadata": {
        "colab": {
          "base_uri": "https://localhost:8080/"
        },
        "id": "Z2zziM0vvfER",
        "outputId": "b580ed37-bbea-4a9f-d0ed-a2b627021b49"
      },
      "execution_count": null,
      "outputs": [
        {
          "output_type": "execute_result",
          "data": {
            "text/plain": [
              "Index(['report_no', 'year', 'quarter'], dtype='object')"
            ]
          },
          "metadata": {},
          "execution_count": 151
        }
      ]
    },
    {
      "cell_type": "markdown",
      "metadata": {
        "id": "bN7ApPMXCM0y"
      },
      "source": [
        "## Univariate EDA\n",
        "\n",
        "> Here we look at the different columns in the dataset, the type and value of the data stored in them. This will help us understand the data and clean it for further analysis. \n",
        "\n"
      ]
    },
    {
      "cell_type": "code",
      "metadata": {
        "id": "VHj8cPXGCTX8",
        "colab": {
          "base_uri": "https://localhost:8080/",
          "height": 469
        },
        "outputId": "f20d66c5-f11d-4c20-bd22-797d5d5d30fc"
      },
      "source": [
        "vehicles.head()"
      ],
      "execution_count": null,
      "outputs": [
        {
          "output_type": "execute_result",
          "data": {
            "text/html": [
              "<div>\n",
              "<style scoped>\n",
              "    .dataframe tbody tr th:only-of-type {\n",
              "        vertical-align: middle;\n",
              "    }\n",
              "\n",
              "    .dataframe tbody tr th {\n",
              "        vertical-align: top;\n",
              "    }\n",
              "\n",
              "    .dataframe thead th {\n",
              "        text-align: right;\n",
              "    }\n",
              "</style>\n",
              "<table border=\"1\" class=\"dataframe\">\n",
              "  <thead>\n",
              "    <tr style=\"text-align: right;\">\n",
              "      <th></th>\n",
              "      <th>HARM_EVENT_DESC</th>\n",
              "      <th>HARM_EVENT_CODE</th>\n",
              "      <th>CONTI_DIRECTION_DESC</th>\n",
              "      <th>CONTI_DIRECTION_CODE</th>\n",
              "      <th>DAMAGE_DESC</th>\n",
              "      <th>DAMAGE_CODE</th>\n",
              "      <th>MOVEMENT_DESC</th>\n",
              "      <th>MOVEMENT_CODE</th>\n",
              "      <th>VIN_NO</th>\n",
              "      <th>REPORT_NO</th>\n",
              "      <th>CV_BODY_TYPE_DESC</th>\n",
              "      <th>CV_BODY_TYPE_CODE</th>\n",
              "      <th>VEH_YEAR</th>\n",
              "      <th>VEH_MAKE</th>\n",
              "      <th>VEH_MODEL</th>\n",
              "      <th>COMMERCIAL_FLAG_DESC</th>\n",
              "      <th>COMMERCIAL_FLAG</th>\n",
              "      <th>HZM_NUM</th>\n",
              "      <th>TOWED_AWAY_FLAG_DESC</th>\n",
              "      <th>TOWED_AWAY_FLAG</th>\n",
              "      <th>NUM_AXLES</th>\n",
              "      <th>GVW_DESC</th>\n",
              "      <th>GVW_CODE</th>\n",
              "      <th>GOING_DIRECTION_DESC</th>\n",
              "      <th>GOING_DIRECTION_CODE</th>\n",
              "      <th>BODY_TYPE_DESC</th>\n",
              "      <th>BODY_TYPE_CODE</th>\n",
              "      <th>DRIVERLESS_FLAG_DESC</th>\n",
              "      <th>DRIVERLESS_FLAG</th>\n",
              "      <th>FIRE_FLAG_DESC</th>\n",
              "      <th>FIRE_FLAG</th>\n",
              "      <th>PARKED_FLAG_DESC</th>\n",
              "      <th>PARKED_FLAG</th>\n",
              "      <th>SPEED_LIMIT</th>\n",
              "      <th>HIT_AND_RUN_FLAG_DESC</th>\n",
              "      <th>HIT_AND_RUN_FLAG</th>\n",
              "      <th>HAZMAT_SPILL_FLAG_DESC</th>\n",
              "      <th>HAZMAT_SPILL_FLAG</th>\n",
              "      <th>VEHICLE_ID</th>\n",
              "      <th>TOWED_VEHICLE_CONFIG_DESC</th>\n",
              "      <th>TOWED_VEHICLE_CONFIG_CODE</th>\n",
              "      <th>AREA_DAMAGED_CODE_IMP1</th>\n",
              "      <th>AREA_DAMAGED_CODE1</th>\n",
              "      <th>AREA_DAMAGED_CODE2</th>\n",
              "      <th>AREA_DAMAGED_CODE3</th>\n",
              "      <th>AREA_DAMAGED_CODE_MAIN_DESC</th>\n",
              "      <th>AREA_DAMAGED_CODE_MAIN</th>\n",
              "      <th>YEAR</th>\n",
              "      <th>Quarter</th>\n",
              "    </tr>\n",
              "  </thead>\n",
              "  <tbody>\n",
              "    <tr>\n",
              "      <th>0</th>\n",
              "      <td>Other Vehicle</td>\n",
              "      <td>1.0</td>\n",
              "      <td>North</td>\n",
              "      <td>N</td>\n",
              "      <td>Unknown</td>\n",
              "      <td>99</td>\n",
              "      <td>Unknown</td>\n",
              "      <td>99.0</td>\n",
              "      <td>NaN</td>\n",
              "      <td>AE5057004X</td>\n",
              "      <td>NaN</td>\n",
              "      <td>NaN</td>\n",
              "      <td>NaN</td>\n",
              "      <td>UNKNOWN</td>\n",
              "      <td>UNKNOWN</td>\n",
              "      <td>No</td>\n",
              "      <td>N</td>\n",
              "      <td>NaN</td>\n",
              "      <td>No</td>\n",
              "      <td>N</td>\n",
              "      <td>NaN</td>\n",
              "      <td>NaN</td>\n",
              "      <td>NaN</td>\n",
              "      <td>North</td>\n",
              "      <td>N</td>\n",
              "      <td>NaN</td>\n",
              "      <td>NaN</td>\n",
              "      <td>NaN</td>\n",
              "      <td>U</td>\n",
              "      <td>No</td>\n",
              "      <td>N</td>\n",
              "      <td>No</td>\n",
              "      <td>N</td>\n",
              "      <td>25</td>\n",
              "      <td>Yes</td>\n",
              "      <td>Y</td>\n",
              "      <td>NaN</td>\n",
              "      <td>NaN</td>\n",
              "      <td>47e2531d-8c69-470c-9198-502a46c7639e</td>\n",
              "      <td>Unknown</td>\n",
              "      <td>99</td>\n",
              "      <td>11.0</td>\n",
              "      <td>10.0</td>\n",
              "      <td>11.0</td>\n",
              "      <td>12.0</td>\n",
              "      <td>Eleven o'clock</td>\n",
              "      <td>11.0</td>\n",
              "      <td>2020</td>\n",
              "      <td>Q2</td>\n",
              "    </tr>\n",
              "    <tr>\n",
              "      <th>1</th>\n",
              "      <td>Other Vehicle</td>\n",
              "      <td>1.0</td>\n",
              "      <td>North</td>\n",
              "      <td>N</td>\n",
              "      <td>Superficial</td>\n",
              "      <td>2</td>\n",
              "      <td>Moving Constant Speed</td>\n",
              "      <td>1.0</td>\n",
              "      <td>NMTKHMBX0JR025092</td>\n",
              "      <td>MSP7221001P</td>\n",
              "      <td>NaN</td>\n",
              "      <td>NaN</td>\n",
              "      <td>2018.0</td>\n",
              "      <td>TOYOTA</td>\n",
              "      <td>CAMRY</td>\n",
              "      <td>No</td>\n",
              "      <td>N</td>\n",
              "      <td>NaN</td>\n",
              "      <td>No</td>\n",
              "      <td>N</td>\n",
              "      <td>NaN</td>\n",
              "      <td>NaN</td>\n",
              "      <td>NaN</td>\n",
              "      <td>North</td>\n",
              "      <td>N</td>\n",
              "      <td>Passenger Car</td>\n",
              "      <td>2.00</td>\n",
              "      <td>No</td>\n",
              "      <td>N</td>\n",
              "      <td>No</td>\n",
              "      <td>N</td>\n",
              "      <td>No</td>\n",
              "      <td>N</td>\n",
              "      <td>55</td>\n",
              "      <td>No</td>\n",
              "      <td>N</td>\n",
              "      <td>NaN</td>\n",
              "      <td>NaN</td>\n",
              "      <td>0dbd4a00-c7f2-4c34-b543-c2633fe0118f</td>\n",
              "      <td>Not Applicable</td>\n",
              "      <td>0</td>\n",
              "      <td>12.0</td>\n",
              "      <td>6.0</td>\n",
              "      <td>12.0</td>\n",
              "      <td>NaN</td>\n",
              "      <td>Twelve o'clock</td>\n",
              "      <td>12.0</td>\n",
              "      <td>2020</td>\n",
              "      <td>Q2</td>\n",
              "    </tr>\n",
              "    <tr>\n",
              "      <th>2</th>\n",
              "      <td>Other Vehicle</td>\n",
              "      <td>1.0</td>\n",
              "      <td>South</td>\n",
              "      <td>S</td>\n",
              "      <td>Functional</td>\n",
              "      <td>3</td>\n",
              "      <td>Stopped in Traffic Lane</td>\n",
              "      <td>6.0</td>\n",
              "      <td>2GNAXPEX5K6103012</td>\n",
              "      <td>DA37010040</td>\n",
              "      <td>NaN</td>\n",
              "      <td>NaN</td>\n",
              "      <td>2019.0</td>\n",
              "      <td>CHEVROLET</td>\n",
              "      <td>EQUINOX</td>\n",
              "      <td>No</td>\n",
              "      <td>N</td>\n",
              "      <td>NaN</td>\n",
              "      <td>No</td>\n",
              "      <td>N</td>\n",
              "      <td>NaN</td>\n",
              "      <td>NaN</td>\n",
              "      <td>NaN</td>\n",
              "      <td>South</td>\n",
              "      <td>S</td>\n",
              "      <td>(Sport) Utility Vehicle</td>\n",
              "      <td>23.08</td>\n",
              "      <td>No</td>\n",
              "      <td>N</td>\n",
              "      <td>No</td>\n",
              "      <td>N</td>\n",
              "      <td>No</td>\n",
              "      <td>N</td>\n",
              "      <td>30</td>\n",
              "      <td>No</td>\n",
              "      <td>N</td>\n",
              "      <td>NaN</td>\n",
              "      <td>NaN</td>\n",
              "      <td>f2c0d05c-ff70-4549-9d48-57c182eae6f2</td>\n",
              "      <td>Not Applicable</td>\n",
              "      <td>0</td>\n",
              "      <td>6.0</td>\n",
              "      <td>6.0</td>\n",
              "      <td>NaN</td>\n",
              "      <td>NaN</td>\n",
              "      <td>Six o'clock</td>\n",
              "      <td>6.0</td>\n",
              "      <td>2020</td>\n",
              "      <td>Q2</td>\n",
              "    </tr>\n",
              "    <tr>\n",
              "      <th>3</th>\n",
              "      <td>Fixed Object</td>\n",
              "      <td>9.0</td>\n",
              "      <td>Unknown</td>\n",
              "      <td>U</td>\n",
              "      <td>Unknown</td>\n",
              "      <td>99</td>\n",
              "      <td>Not Applicable</td>\n",
              "      <td>0.0</td>\n",
              "      <td>NaN</td>\n",
              "      <td>MDTA1791002C</td>\n",
              "      <td>NaN</td>\n",
              "      <td>NaN</td>\n",
              "      <td>NaN</td>\n",
              "      <td>UNKNOWN</td>\n",
              "      <td>UNKNOWN</td>\n",
              "      <td>No</td>\n",
              "      <td>N</td>\n",
              "      <td>NaN</td>\n",
              "      <td>No</td>\n",
              "      <td>N</td>\n",
              "      <td>NaN</td>\n",
              "      <td>NaN</td>\n",
              "      <td>NaN</td>\n",
              "      <td>Unknown</td>\n",
              "      <td>U</td>\n",
              "      <td>NaN</td>\n",
              "      <td>NaN</td>\n",
              "      <td>No</td>\n",
              "      <td>N</td>\n",
              "      <td>No</td>\n",
              "      <td>N</td>\n",
              "      <td>No</td>\n",
              "      <td>N</td>\n",
              "      <td>35</td>\n",
              "      <td>Yes</td>\n",
              "      <td>Y</td>\n",
              "      <td>NaN</td>\n",
              "      <td>NaN</td>\n",
              "      <td>5a55c4ee-17e9-4eed-bfe9-f5aca18f5b9e</td>\n",
              "      <td>Not Applicable</td>\n",
              "      <td>0</td>\n",
              "      <td>99.0</td>\n",
              "      <td>99.0</td>\n",
              "      <td>NaN</td>\n",
              "      <td>NaN</td>\n",
              "      <td>Unknown</td>\n",
              "      <td>99.0</td>\n",
              "      <td>2020</td>\n",
              "      <td>Q2</td>\n",
              "    </tr>\n",
              "    <tr>\n",
              "      <th>4</th>\n",
              "      <td>Other Vehicle</td>\n",
              "      <td>1.0</td>\n",
              "      <td>East</td>\n",
              "      <td>E</td>\n",
              "      <td>Disabling</td>\n",
              "      <td>4</td>\n",
              "      <td>Slowing or Stopping</td>\n",
              "      <td>3.0</td>\n",
              "      <td>5FNRL18672B048550</td>\n",
              "      <td>AE456100BL</td>\n",
              "      <td>NaN</td>\n",
              "      <td>NaN</td>\n",
              "      <td>2002.0</td>\n",
              "      <td>HONDA</td>\n",
              "      <td>VAN</td>\n",
              "      <td>No</td>\n",
              "      <td>N</td>\n",
              "      <td>NaN</td>\n",
              "      <td>Yes</td>\n",
              "      <td>Y</td>\n",
              "      <td>NaN</td>\n",
              "      <td>NaN</td>\n",
              "      <td>NaN</td>\n",
              "      <td>East</td>\n",
              "      <td>E</td>\n",
              "      <td>Passenger Car</td>\n",
              "      <td>2.00</td>\n",
              "      <td>No</td>\n",
              "      <td>N</td>\n",
              "      <td>No</td>\n",
              "      <td>N</td>\n",
              "      <td>No</td>\n",
              "      <td>N</td>\n",
              "      <td>35</td>\n",
              "      <td>No</td>\n",
              "      <td>N</td>\n",
              "      <td>NaN</td>\n",
              "      <td>NaN</td>\n",
              "      <td>23d968b0-be0e-4810-b6f0-34ef33fd7112</td>\n",
              "      <td>Not Applicable</td>\n",
              "      <td>0</td>\n",
              "      <td>6.0</td>\n",
              "      <td>6.0</td>\n",
              "      <td>12.0</td>\n",
              "      <td>NaN</td>\n",
              "      <td>Six o'clock</td>\n",
              "      <td>6.0</td>\n",
              "      <td>2020</td>\n",
              "      <td>Q2</td>\n",
              "    </tr>\n",
              "  </tbody>\n",
              "</table>\n",
              "</div>"
            ],
            "text/plain": [
              "  HARM_EVENT_DESC  HARM_EVENT_CODE  ...  YEAR Quarter\n",
              "0   Other Vehicle              1.0  ...  2020      Q2\n",
              "1   Other Vehicle              1.0  ...  2020      Q2\n",
              "2   Other Vehicle              1.0  ...  2020      Q2\n",
              "3    Fixed Object              9.0  ...  2020      Q2\n",
              "4   Other Vehicle              1.0  ...  2020      Q2\n",
              "\n",
              "[5 rows x 49 columns]"
            ]
          },
          "metadata": {},
          "execution_count": 152
        }
      ]
    },
    {
      "cell_type": "code",
      "source": [
        "vehicles.dtypes "
      ],
      "metadata": {
        "colab": {
          "base_uri": "https://localhost:8080/"
        },
        "id": "oxT_jPHo_z4l",
        "outputId": "593fea24-b0a2-48a9-d7cf-74d533be9132"
      },
      "execution_count": null,
      "outputs": [
        {
          "output_type": "execute_result",
          "data": {
            "text/plain": [
              "HARM_EVENT_DESC                 object\n",
              "HARM_EVENT_CODE                float64\n",
              "CONTI_DIRECTION_DESC            object\n",
              "CONTI_DIRECTION_CODE            object\n",
              "DAMAGE_DESC                     object\n",
              "DAMAGE_CODE                      int64\n",
              "MOVEMENT_DESC                   object\n",
              "MOVEMENT_CODE                  float64\n",
              "VIN_NO                          object\n",
              "REPORT_NO                       object\n",
              "CV_BODY_TYPE_DESC               object\n",
              "CV_BODY_TYPE_CODE              float64\n",
              "VEH_YEAR                       float64\n",
              "VEH_MAKE                        object\n",
              "VEH_MODEL                       object\n",
              "COMMERCIAL_FLAG_DESC            object\n",
              "COMMERCIAL_FLAG                 object\n",
              "HZM_NUM                         object\n",
              "TOWED_AWAY_FLAG_DESC            object\n",
              "TOWED_AWAY_FLAG                 object\n",
              "NUM_AXLES                      float64\n",
              "GVW_DESC                        object\n",
              "GVW_CODE                       float64\n",
              "GOING_DIRECTION_DESC            object\n",
              "GOING_DIRECTION_CODE            object\n",
              "BODY_TYPE_DESC                  object\n",
              "BODY_TYPE_CODE                 float64\n",
              "DRIVERLESS_FLAG_DESC            object\n",
              "DRIVERLESS_FLAG                 object\n",
              "FIRE_FLAG_DESC                  object\n",
              "FIRE_FLAG                       object\n",
              "PARKED_FLAG_DESC                object\n",
              "PARKED_FLAG                     object\n",
              "SPEED_LIMIT                      int64\n",
              "HIT_AND_RUN_FLAG_DESC           object\n",
              "HIT_AND_RUN_FLAG                object\n",
              "HAZMAT_SPILL_FLAG_DESC          object\n",
              "HAZMAT_SPILL_FLAG               object\n",
              "VEHICLE_ID                      object\n",
              "TOWED_VEHICLE_CONFIG_DESC       object\n",
              "TOWED_VEHICLE_CONFIG_CODE        int64\n",
              "AREA_DAMAGED_CODE_IMP1         float64\n",
              "AREA_DAMAGED_CODE1             float64\n",
              "AREA_DAMAGED_CODE2             float64\n",
              "AREA_DAMAGED_CODE3             float64\n",
              "AREA_DAMAGED_CODE_MAIN_DESC     object\n",
              "AREA_DAMAGED_CODE_MAIN         float64\n",
              "YEAR                             int64\n",
              "Quarter                         object\n",
              "dtype: object"
            ]
          },
          "metadata": {},
          "execution_count": 153
        }
      ]
    },
    {
      "cell_type": "code",
      "metadata": {
        "id": "nkdP9TF62YDg",
        "colab": {
          "base_uri": "https://localhost:8080/"
        },
        "outputId": "9b2eb1c8-166e-4cd2-9cd8-fbd7ae5908f2"
      },
      "source": [
        "vehicles.isnull().sum() *100/len(vehicles) "
      ],
      "execution_count": null,
      "outputs": [
        {
          "output_type": "execute_result",
          "data": {
            "text/plain": [
              "HARM_EVENT_DESC                 0.000000\n",
              "HARM_EVENT_CODE                 0.000000\n",
              "CONTI_DIRECTION_DESC           10.817826\n",
              "CONTI_DIRECTION_CODE           10.817826\n",
              "DAMAGE_DESC                     0.000000\n",
              "DAMAGE_CODE                     0.000000\n",
              "MOVEMENT_DESC                   0.000000\n",
              "MOVEMENT_CODE                   0.000000\n",
              "VIN_NO                          4.887877\n",
              "REPORT_NO                       0.000000\n",
              "CV_BODY_TYPE_DESC              95.932339\n",
              "CV_BODY_TYPE_CODE              95.932339\n",
              "VEH_YEAR                        4.840973\n",
              "VEH_MAKE                        0.022703\n",
              "VEH_MODEL                       0.055670\n",
              "COMMERCIAL_FLAG_DESC            0.000000\n",
              "COMMERCIAL_FLAG                 0.000000\n",
              "HZM_NUM                        99.817555\n",
              "TOWED_AWAY_FLAG_DESC            0.654179\n",
              "TOWED_AWAY_FLAG                 0.000000\n",
              "NUM_AXLES                      95.939382\n",
              "GVW_DESC                       95.932339\n",
              "GVW_CODE                       95.932339\n",
              "GOING_DIRECTION_DESC           10.817826\n",
              "GOING_DIRECTION_CODE           10.817826\n",
              "BODY_TYPE_DESC                  3.813137\n",
              "BODY_TYPE_CODE                  3.782343\n",
              "DRIVERLESS_FLAG_DESC            1.995881\n",
              "DRIVERLESS_FLAG                 0.000000\n",
              "FIRE_FLAG_DESC                 16.602343\n",
              "FIRE_FLAG                      15.718140\n",
              "PARKED_FLAG_DESC                0.000000\n",
              "PARKED_FLAG                     0.000000\n",
              "SPEED_LIMIT                     0.000000\n",
              "HIT_AND_RUN_FLAG_DESC           0.166036\n",
              "HIT_AND_RUN_FLAG                0.000000\n",
              "HAZMAT_SPILL_FLAG_DESC         98.675307\n",
              "HAZMAT_SPILL_FLAG              98.675307\n",
              "VEHICLE_ID                      0.000000\n",
              "TOWED_VEHICLE_CONFIG_DESC       0.000000\n",
              "TOWED_VEHICLE_CONFIG_CODE       0.000000\n",
              "AREA_DAMAGED_CODE_IMP1          0.769041\n",
              "AREA_DAMAGED_CODE1              4.296411\n",
              "AREA_DAMAGED_CODE2             45.713217\n",
              "AREA_DAMAGED_CODE3             64.614816\n",
              "AREA_DAMAGED_CODE_MAIN_DESC     1.087777\n",
              "AREA_DAMAGED_CODE_MAIN          1.087777\n",
              "YEAR                            0.000000\n",
              "Quarter                         0.000000\n",
              "dtype: float64"
            ]
          },
          "metadata": {},
          "execution_count": 154
        }
      ]
    },
    {
      "cell_type": "markdown",
      "source": [
        "### Handeling Missing Data: Part 1\n",
        "\n",
        "> 1. The code columns are removed from the dataset as they don't make sense without the description and hence cannot be used in the analysis efficiently. \n",
        "2. The colums that have more than 90% of the data missing are removed.\n",
        "3. We create a new dataframe vehicles_refined to store the cleaned data. \n"
      ],
      "metadata": {
        "id": "RFLgjqvG23tQ"
      }
    },
    {
      "cell_type": "code",
      "source": [
        "  # Dropping columns that have more than 905 missing data.\n",
        "vehicles_refined = vehicles.drop(['CV_BODY_TYPE_DESC', 'CV_BODY_TYPE_CODE', 'HZM_NUM', 'NUM_AXLES', 'GVW_DESC', 'GVW_CODE', 'HAZMAT_SPILL_FLAG_DESC', 'HAZMAT_SPILL_FLAG'], axis = 1)\n",
        "vehicles_refined = vehicles_refined.drop(['HARM_EVENT_CODE', 'CONTI_DIRECTION_CODE', 'DAMAGE_CODE','MOVEMENT_CODE', 'COMMERCIAL_FLAG', 'TOWED_AWAY_FLAG', 'GOING_DIRECTION_CODE', 'BODY_TYPE_CODE', 'DRIVERLESS_FLAG', 'FIRE_FLAG', 'PARKED_FLAG', 'HIT_AND_RUN_FLAG', 'TOWED_VEHICLE_CONFIG_CODE' ], axis = 1)\n"
      ],
      "metadata": {
        "id": "fUvQNjVthMJ8"
      },
      "execution_count": null,
      "outputs": []
    },
    {
      "cell_type": "code",
      "source": [
        "vehicles_refined.shape"
      ],
      "metadata": {
        "colab": {
          "base_uri": "https://localhost:8080/"
        },
        "id": "pTF_oU635343",
        "outputId": "5e6de160-ae91-4eba-ada2-38b67544e5e0"
      },
      "execution_count": null,
      "outputs": [
        {
          "output_type": "execute_result",
          "data": {
            "text/plain": [
              "(1334649, 28)"
            ]
          },
          "metadata": {},
          "execution_count": 189
        }
      ]
    },
    {
      "cell_type": "code",
      "source": [
        "vehicles_refined.columns"
      ],
      "metadata": {
        "colab": {
          "base_uri": "https://localhost:8080/"
        },
        "id": "rMRPsO-CKvVb",
        "outputId": "34b979e3-03b8-465c-a33a-2f205e651057"
      },
      "execution_count": null,
      "outputs": [
        {
          "output_type": "execute_result",
          "data": {
            "text/plain": [
              "Index(['HARM_EVENT_DESC', 'CONTI_DIRECTION_DESC', 'DAMAGE_DESC',\n",
              "       'MOVEMENT_DESC', 'VIN_NO', 'REPORT_NO', 'VEH_YEAR', 'VEH_MAKE',\n",
              "       'VEH_MODEL', 'COMMERCIAL_FLAG_DESC', 'TOWED_AWAY_FLAG_DESC',\n",
              "       'GOING_DIRECTION_DESC', 'BODY_TYPE_DESC', 'DRIVERLESS_FLAG_DESC',\n",
              "       'FIRE_FLAG_DESC', 'PARKED_FLAG_DESC', 'SPEED_LIMIT',\n",
              "       'HIT_AND_RUN_FLAG_DESC', 'VEHICLE_ID', 'TOWED_VEHICLE_CONFIG_DESC',\n",
              "       'AREA_DAMAGED_CODE_IMP1', 'AREA_DAMAGED_CODE1', 'AREA_DAMAGED_CODE2',\n",
              "       'AREA_DAMAGED_CODE3', 'AREA_DAMAGED_CODE_MAIN_DESC',\n",
              "       'AREA_DAMAGED_CODE_MAIN', 'YEAR', 'Quarter'],\n",
              "      dtype='object')"
            ]
          },
          "metadata": {},
          "execution_count": 190
        }
      ]
    },
    {
      "cell_type": "code",
      "metadata": {
        "id": "fprVHiFQYbEY",
        "colab": {
          "base_uri": "https://localhost:8080/"
        },
        "outputId": "61fae666-1c5b-4f35-83a5-8678463b4d89"
      },
      "source": [
        "vehicles_refined.HARM_EVENT_DESC.unique()"
      ],
      "execution_count": null,
      "outputs": [
        {
          "output_type": "execute_result",
          "data": {
            "text/plain": [
              "array(['Other Vehicle', 'Fixed Object', 'Not Applicable',\n",
              "       'Parked Vehicle', 'Off Road', 'Animal', 'Bicycle', 'Backing',\n",
              "       'Unknown', 'Pedestrian', 'Other Object', 'Other Non Collision',\n",
              "       'Overturn', 'Explosion or Fire', 'Units Separated', 'Other',\n",
              "       'Spilled Cargo', 'Other Pedalcycle', 'U-turn', 'Immersion',\n",
              "       'Other Conveyance', 'Thrown or Falling Object', 'Downhill Roadway',\n",
              "       'Fell Jumped from Motor Vehicle', 'Jackknife', 'Railway Train'],\n",
              "      dtype=object)"
            ]
          },
          "metadata": {},
          "execution_count": 191
        }
      ]
    },
    {
      "cell_type": "code",
      "metadata": {
        "colab": {
          "base_uri": "https://localhost:8080/",
          "height": 661
        },
        "id": "TSJ2oMd5hoX2",
        "outputId": "aae227a6-8f61-44da-dcfd-70e4bd48b6bc"
      },
      "source": [
        "# Plotting a bar plot to show the count of each of the subclasses of harm_event_decsription\n",
        "harm_event_desc_count = vehicles.HARM_EVENT_DESC.value_counts()/vehicles.HARM_EVENT_DESC.value_counts().sum()\n",
        "harm_event_desc_count.plot(x = harm_event_desc_count.index, kind = 'bar', figsize=(10, 8))\n",
        "plt.title('Bar plot for harm event description')"
      ],
      "execution_count": null,
      "outputs": [
        {
          "output_type": "execute_result",
          "data": {
            "text/plain": [
              "Text(0.5, 1.0, 'Bar plot for harm event description')"
            ]
          },
          "metadata": {},
          "execution_count": 192
        },
        {
          "output_type": "display_data",
          "data": {
            "image/png": "[encoded data removed]",
            "text/plain": [
              "<Figure size 720x576 with 1 Axes>"
            ]
          },
          "metadata": {
            "needs_background": "light"
          }
        }
      ]
    },
    {
      "cell_type": "markdown",
      "source": [
        "##### The above graph implies more than 70% of the total crashes involve two moving vehicles."
      ],
      "metadata": {
        "id": "t-6-X9CUy7--"
      }
    },
    {
      "cell_type": "code",
      "metadata": {
        "colab": {
          "base_uri": "https://localhost:8080/",
          "height": 537
        },
        "id": "-_7HWcILnGX9",
        "outputId": "ec8b2eae-0132-432c-da02-d5b4efedcff2"
      },
      "source": [
        "conti_direction_desc_count = vehicles_refined.CONTI_DIRECTION_DESC.value_counts()\n",
        "conti_direction_desc_count.plot(x = conti_direction_desc_count.index, kind = 'bar',  figsize = (10,8))"
      ],
      "execution_count": null,
      "outputs": [
        {
          "output_type": "execute_result",
          "data": {
            "text/plain": [
              "<matplotlib.axes._subplots.AxesSubplot at 0x7f68079b2450>"
            ]
          },
          "metadata": {},
          "execution_count": 193
        },
        {
          "output_type": "display_data",
          "data": {
            "image/png": "[encoded data removed]",
            "text/plain": [
              "<Figure size 720x576 with 1 Axes>"
            ]
          },
          "metadata": {
            "needs_background": "light"
          }
        }
      ]
    },
    {
      "cell_type": "code",
      "metadata": {
        "colab": {
          "base_uri": "https://localhost:8080/",
          "height": 592
        },
        "id": "vh473MUBqD8Q",
        "outputId": "b369b2db-f526-454d-b997-1fcc3d3b6c4d"
      },
      "source": [
        "# Plotting a bar plot for the damage_decsription\n",
        "damage_description_count = vehicles_refined.DAMAGE_DESC.value_counts()\n",
        "damage_description_count.plot(x = damage_description_count.index, kind = 'bar', figsize = (10,8))\n",
        "plt.title('Bar plot for damage description')\n",
        "plt.xlabel('Damage description')"
      ],
      "execution_count": null,
      "outputs": [
        {
          "output_type": "execute_result",
          "data": {
            "text/plain": [
              "Text(0.5, 0, 'Damage description')"
            ]
          },
          "metadata": {},
          "execution_count": 194
        },
        {
          "output_type": "display_data",
          "data": {
            "image/png": "[encoded data removed]",
            "text/plain": [
              "<Figure size 720x576 with 1 Axes>"
            ]
          },
          "metadata": {
            "needs_background": "light"
          }
        }
      ]
    },
    {
      "cell_type": "markdown",
      "source": [
        "##### This column that describes the damage is categorical. However, the categories are not very well defined. For example, the categories 'Unknow', 'Not Applicable' and 'Other' could mean similar things and are not very well distinguished. Also, the columns 'Diasbling' and 'Destroyed' seem very similar. "
      ],
      "metadata": {
        "id": "zDyXW75KzL0I"
      }
    },
    {
      "cell_type": "code",
      "metadata": {
        "colab": {
          "base_uri": "https://localhost:8080/",
          "height": 757
        },
        "id": "ztzuCfss0ZlB",
        "outputId": "f59f11c4-c62f-4b96-c155-4b273baf995d"
      },
      "source": [
        "# Plotting a bar plot for movement_desc\n",
        "movement_desc = vehicles_refined.MOVEMENT_DESC.value_counts()\n",
        "movement_desc.plot(x = movement_desc.index, kind = 'bar', figsize = (15,10))\n",
        "plt.title('Movement description bar plot')\n",
        "plt.xlabel('Movement description')"
      ],
      "execution_count": null,
      "outputs": [
        {
          "output_type": "execute_result",
          "data": {
            "text/plain": [
              "Text(0.5, 0, 'Movement description')"
            ]
          },
          "metadata": {},
          "execution_count": 195
        },
        {
          "output_type": "display_data",
          "data": {
            "image/png": "[encoded data removed]",
            "text/plain": [
              "<Figure size 1080x720 with 1 Axes>"
            ]
          },
          "metadata": {
            "needs_background": "light"
          }
        }
      ]
    },
    {
      "cell_type": "markdown",
      "source": [
        "##### From the above graph it is clear that majority of the crashes occur when the vehicles are moving at constant speed rather than when accelerating or when changing lanes as expected. "
      ],
      "metadata": {
        "id": "LO1fp7mY0LWb"
      }
    },
    {
      "cell_type": "code",
      "metadata": {
        "colab": {
          "base_uri": "https://localhost:8080/"
        },
        "id": "zN2Ogf3bExUh",
        "outputId": "e442e27f-5f89-4dd4-90ed-bd492b4247d3"
      },
      "source": [
        "vehicles_refined.VEH_YEAR"
      ],
      "execution_count": null,
      "outputs": [
        {
          "output_type": "execute_result",
          "data": {
            "text/plain": [
              "0             NaN\n",
              "1          2018.0\n",
              "2          2019.0\n",
              "3             NaN\n",
              "4          2002.0\n",
              "            ...  \n",
              "1334644    2012.0\n",
              "1334645    2018.0\n",
              "1334646    2017.0\n",
              "1334647       NaN\n",
              "1334648    2007.0\n",
              "Name: VEH_YEAR, Length: 1334649, dtype: float64"
            ]
          },
          "metadata": {},
          "execution_count": 196
        }
      ]
    },
    {
      "cell_type": "code",
      "metadata": {
        "id": "rGSzXkPjQYaP",
        "colab": {
          "base_uri": "https://localhost:8080/"
        },
        "outputId": "674c66ec-64ac-43cd-e100-f788c7cc3a79"
      },
      "source": [
        "vehicles_refined.VEH_YEAR.replace(np.nan, 0, inplace = True)\n",
        "vehicles_refined.VEH_YEAR\n"
      ],
      "execution_count": null,
      "outputs": [
        {
          "output_type": "execute_result",
          "data": {
            "text/plain": [
              "0             0.0\n",
              "1          2018.0\n",
              "2          2019.0\n",
              "3             0.0\n",
              "4          2002.0\n",
              "            ...  \n",
              "1334644    2012.0\n",
              "1334645    2018.0\n",
              "1334646    2017.0\n",
              "1334647       0.0\n",
              "1334648    2007.0\n",
              "Name: VEH_YEAR, Length: 1334649, dtype: float64"
            ]
          },
          "metadata": {},
          "execution_count": 197
        }
      ]
    },
    {
      "cell_type": "code",
      "source": [
        "vehicles_refined.VEH_YEAR = vehicles_refined.VEH_YEAR.astype(int)\n",
        "vehicles_refined.VEH_YEAR"
      ],
      "metadata": {
        "colab": {
          "base_uri": "https://localhost:8080/"
        },
        "id": "UjypSlOpYzfZ",
        "outputId": "2ea4759c-05ce-4f08-c7c6-c9b080d40137"
      },
      "execution_count": null,
      "outputs": [
        {
          "output_type": "execute_result",
          "data": {
            "text/plain": [
              "0             0\n",
              "1          2018\n",
              "2          2019\n",
              "3             0\n",
              "4          2002\n",
              "           ... \n",
              "1334644    2012\n",
              "1334645    2018\n",
              "1334646    2017\n",
              "1334647       0\n",
              "1334648    2007\n",
              "Name: VEH_YEAR, Length: 1334649, dtype: int64"
            ]
          },
          "metadata": {},
          "execution_count": 198
        }
      ]
    },
    {
      "cell_type": "code",
      "source": [
        "print(vehicles_refined.VEH_YEAR.unique().min())\n",
        "print(vehicles_refined.VEH_YEAR.unique().max())"
      ],
      "metadata": {
        "colab": {
          "base_uri": "https://localhost:8080/"
        },
        "id": "mKwE8vP-ZKM5",
        "outputId": "18ce0b16-7ec9-4213-b4eb-e7d96f244008"
      },
      "execution_count": null,
      "outputs": [
        {
          "output_type": "stream",
          "name": "stdout",
          "text": [
            "0\n",
            "9999\n"
          ]
        }
      ]
    },
    {
      "cell_type": "markdown",
      "source": [
        "### Handeling missing data: Part 2\n",
        "####  Here we truncate the rows to keep only the vehicle years that lie in the years 2000 to 2021 as this range seems the upper limit for the time period when a vehicle can be considered usable. \n",
        "#### This also removes all the inappropriate data such as 2050, 1, 99 etc. "
      ],
      "metadata": {
        "id": "uQCNROlj0woh"
      }
    },
    {
      "cell_type": "code",
      "metadata": {
        "id": "Rd4kJQHkSrIo"
      },
      "source": [
        "vehicles_refined = vehicles_refined[(vehicles_refined.VEH_YEAR >= 2000.0) & (vehicles_refined.VEH_YEAR <=2021.0)]"
      ],
      "execution_count": null,
      "outputs": []
    },
    {
      "cell_type": "code",
      "metadata": {
        "colab": {
          "base_uri": "https://localhost:8080/"
        },
        "id": "ZJZW99SpUHbR",
        "outputId": "bc612259-51bb-471d-d68f-4948628ba191"
      },
      "source": [
        "vehicles_refined.VEH_YEAR"
      ],
      "execution_count": null,
      "outputs": [
        {
          "output_type": "execute_result",
          "data": {
            "text/plain": [
              "1          2018\n",
              "2          2019\n",
              "4          2002\n",
              "5          2009\n",
              "6          2017\n",
              "           ... \n",
              "1334643    2007\n",
              "1334644    2012\n",
              "1334645    2018\n",
              "1334646    2017\n",
              "1334648    2007\n",
              "Name: VEH_YEAR, Length: 1162313, dtype: int64"
            ]
          },
          "metadata": {},
          "execution_count": 201
        }
      ]
    },
    {
      "cell_type": "code",
      "metadata": {
        "colab": {
          "base_uri": "https://localhost:8080/"
        },
        "id": "rim0nvXpUXm4",
        "outputId": "122b0974-6c85-4fe7-9ef5-cca7d23c0bcd"
      },
      "source": [
        "vehicles_refined.VEH_YEAR.unique()"
      ],
      "execution_count": null,
      "outputs": [
        {
          "output_type": "execute_result",
          "data": {
            "text/plain": [
              "array([2018, 2019, 2002, 2009, 2017, 2013, 2016, 2015, 2005, 2007, 2011,\n",
              "       2021, 2020, 2004, 2012, 2006, 2008, 2014, 2010, 2003, 2001, 2000])"
            ]
          },
          "metadata": {},
          "execution_count": 202
        }
      ]
    },
    {
      "cell_type": "code",
      "metadata": {
        "colab": {
          "base_uri": "https://localhost:8080/"
        },
        "id": "YmKEL2v3VDPq",
        "outputId": "d8d972a0-c06f-4f6b-b6ab-da3622e61709"
      },
      "source": [
        "vehicles_refined.shape\n",
        "# 1334649"
      ],
      "execution_count": null,
      "outputs": [
        {
          "output_type": "execute_result",
          "data": {
            "text/plain": [
              "(1162313, 28)"
            ]
          },
          "metadata": {},
          "execution_count": 203
        }
      ]
    },
    {
      "cell_type": "markdown",
      "source": [
        "#### The initial number of rows were 1334649 and now there are 1162313 rows. Therefore, 172336 rows were removed when we truncated the vehicle year to the range 2000 to 2021. "
      ],
      "metadata": {
        "id": "x9G_70au1HmY"
      }
    },
    {
      "cell_type": "code",
      "metadata": {
        "colab": {
          "base_uri": "https://localhost:8080/",
          "height": 563
        },
        "id": "KgFk13MUWwtK",
        "outputId": "d5ce0be4-0319-4686-f4c5-64eac4cc5357"
      },
      "source": [
        "veh_year = vehicles_refined.VEH_YEAR.value_counts()\n",
        "veh_year.sort_index(inplace=True)\n",
        "veh_year.plot(x = veh_year.index, kind = 'bar', figsize = (10,8))\n",
        "plt.title('Bar plot for Vehicle Year')\n",
        "plt.xlabel('Vehicle year')\n",
        "plt.xticks()"
      ],
      "execution_count": null,
      "outputs": [
        {
          "output_type": "execute_result",
          "data": {
            "text/plain": [
              "(array([ 0,  1,  2,  3,  4,  5,  6,  7,  8,  9, 10, 11, 12, 13, 14, 15, 16,\n",
              "        17, 18, 19, 20, 21]), <a list of 22 Text major ticklabel objects>)"
            ]
          },
          "metadata": {},
          "execution_count": 204
        },
        {
          "output_type": "display_data",
          "data": {
            "image/png": "[encoded data removed]",
            "text/plain": [
              "<Figure size 720x576 with 1 Axes>"
            ]
          },
          "metadata": {
            "needs_background": "light"
          }
        }
      ]
    },
    {
      "cell_type": "code",
      "metadata": {
        "colab": {
          "base_uri": "https://localhost:8080/",
          "height": 624
        },
        "id": "wS4Uyv5ylIbq",
        "outputId": "b5fdeb94-c005-49be-9f98-ade9a35ae1a7"
      },
      "source": [
        "# speed limit\n",
        "plt.figure(figsize=[15,10])\n",
        "vehicles_refined.SPEED_LIMIT.value_counts(dropna= False).sort_index().plot.bar()\n",
        "plt.title('Speed limit bar plot')\n",
        "plt.xlabel('Speed limit')\n",
        "plt.show()"
      ],
      "execution_count": null,
      "outputs": [
        {
          "output_type": "display_data",
          "data": {
            "image/png": "[encoded data removed]",
            "text/plain": [
              "<Figure size 1080x720 with 1 Axes>"
            ]
          },
          "metadata": {
            "needs_background": "light"
          }
        }
      ]
    },
    {
      "cell_type": "code",
      "metadata": {
        "colab": {
          "base_uri": "https://localhost:8080/"
        },
        "id": "yf815W32lqXF",
        "outputId": "52c2f5e2-dac8-47d2-da3d-108a3df58af7"
      },
      "source": [
        "vehicles_refined.SPEED_LIMIT.isnull().value_counts()"
      ],
      "execution_count": null,
      "outputs": [
        {
          "output_type": "execute_result",
          "data": {
            "text/plain": [
              "False    1162313\n",
              "Name: SPEED_LIMIT, dtype: int64"
            ]
          },
          "metadata": {},
          "execution_count": 212
        }
      ]
    },
    {
      "cell_type": "code",
      "metadata": {
        "colab": {
          "base_uri": "https://localhost:8080/"
        },
        "id": "Utn3GMXBlwu6",
        "outputId": "84724a4f-ccdf-4160-e6ca-88c33e7ebfc6"
      },
      "source": [
        "vehicles_refined.YEAR.unique()"
      ],
      "execution_count": null,
      "outputs": [
        {
          "output_type": "execute_result",
          "data": {
            "text/plain": [
              "array([2020, 2018, 2019, 2015, 2017, 2016, 2021])"
            ]
          },
          "metadata": {},
          "execution_count": 213
        }
      ]
    },
    {
      "cell_type": "code",
      "metadata": {
        "id": "Qks_wjhmmx6G",
        "colab": {
          "base_uri": "https://localhost:8080/",
          "height": 637
        },
        "outputId": "67a067cc-c688-405d-c861-efcff528cc0b"
      },
      "source": [
        "plt.figure(figsize=[15,10])\n",
        "vehicles_refined.YEAR.value_counts().sort_values().plot.bar()\n",
        "plt.title('Bar plot for Accident Year')\n",
        "plt.xlabel('Accident year')\n",
        "plt.show()"
      ],
      "execution_count": null,
      "outputs": [
        {
          "output_type": "display_data",
          "data": {
            "image/png": "[encoded data removed]",
            "text/plain": [
              "<Figure size 1080x720 with 1 Axes>"
            ]
          },
          "metadata": {
            "needs_background": "light"
          }
        }
      ]
    },
    {
      "cell_type": "code",
      "metadata": {
        "colab": {
          "base_uri": "https://localhost:8080/",
          "height": 626
        },
        "id": "p9oDCtbwocng",
        "outputId": "c80368ef-e37d-4ddc-9d2d-277a4b8aa3cb"
      },
      "source": [
        "plt.figure(figsize=[15,10])\n",
        "vehicles_refined.Quarter.value_counts().sort_index().plot.bar()\n",
        "plt.title('Quarter bar plot')\n",
        "plt.xlabel('Quarter')\n",
        "plt.show()"
      ],
      "execution_count": null,
      "outputs": [
        {
          "output_type": "display_data",
          "data": {
            "image/png": "[encoded data removed]",
            "text/plain": [
              "<Figure size 1080x720 with 1 Axes>"
            ]
          },
          "metadata": {
            "needs_background": "light"
          }
        }
      ]
    },
    {
      "cell_type": "code",
      "source": [
        "vehicles_refined.columns"
      ],
      "metadata": {
        "colab": {
          "base_uri": "https://localhost:8080/"
        },
        "id": "QjzRNNGQJyGK",
        "outputId": "3c99b6c5-ce54-4388-870a-8a3865fc51e8"
      },
      "execution_count": null,
      "outputs": [
        {
          "output_type": "execute_result",
          "data": {
            "text/plain": [
              "Index(['HARM_EVENT_DESC', 'CONTI_DIRECTION_DESC', 'DAMAGE_DESC',\n",
              "       'MOVEMENT_DESC', 'VIN_NO', 'REPORT_NO', 'VEH_YEAR', 'VEH_MAKE',\n",
              "       'VEH_MODEL', 'COMMERCIAL_FLAG_DESC', 'TOWED_AWAY_FLAG_DESC',\n",
              "       'GOING_DIRECTION_DESC', 'BODY_TYPE_DESC', 'DRIVERLESS_FLAG_DESC',\n",
              "       'FIRE_FLAG_DESC', 'PARKED_FLAG_DESC', 'SPEED_LIMIT',\n",
              "       'HIT_AND_RUN_FLAG_DESC', 'VEHICLE_ID', 'TOWED_VEHICLE_CONFIG_DESC',\n",
              "       'AREA_DAMAGED_CODE_IMP1', 'AREA_DAMAGED_CODE1', 'AREA_DAMAGED_CODE2',\n",
              "       'AREA_DAMAGED_CODE3', 'AREA_DAMAGED_CODE_MAIN_DESC',\n",
              "       'AREA_DAMAGED_CODE_MAIN', 'YEAR', 'Quarter'],\n",
              "      dtype='object')"
            ]
          },
          "metadata": {},
          "execution_count": 216
        }
      ]
    },
    {
      "cell_type": "markdown",
      "source": [
        "### Handeling missing data: Part 3\n",
        "#### Here we try to understand the area damage codes based on the given data. AREA_DAMAGED_CODE_MAIN_DESC needs to describe the AREA+DAMAGED_CODE_MAIN, however, the descriptions are wrongly mentioned in the description column. Therefore, we conclude that these area damage columns are not useful for further analysis and therefore drop them."
      ],
      "metadata": {
        "id": "raA46qdIM-DL"
      }
    },
    {
      "cell_type": "code",
      "source": [
        "print(vehicles_refined.AREA_DAMAGED_CODE1.nunique())\n",
        "print(vehicles_refined.AREA_DAMAGED_CODE2.nunique())\n",
        "print(vehicles_refined.AREA_DAMAGED_CODE3.nunique())\n",
        "print(vehicles_refined.AREA_DAMAGED_CODE_MAIN.nunique())\n",
        "print(vehicles_refined.AREA_DAMAGED_CODE_MAIN_DESC.nunique())\n",
        "\n",
        "print(vehicles_refined.AREA_DAMAGED_CODE_IMP1.unique())\n",
        "print(vehicles_refined.AREA_DAMAGED_CODE1.unique())\n",
        "print(vehicles_refined.AREA_DAMAGED_CODE2.unique())\n",
        "print(vehicles_refined.AREA_DAMAGED_CODE3.unique())\n",
        "print(vehicles_refined.AREA_DAMAGED_CODE_MAIN.unique())\n",
        "print(vehicles_refined.AREA_DAMAGED_CODE_MAIN_DESC.unique())"
      ],
      "metadata": {
        "colab": {
          "base_uri": "https://localhost:8080/"
        },
        "id": "BbfwQIYhmJmU",
        "outputId": "ff730b34-ab2c-4594-c608-59f6c08f5634"
      },
      "execution_count": null,
      "outputs": [
        {
          "output_type": "stream",
          "name": "stdout",
          "text": [
            "16\n",
            "16\n",
            "16\n",
            "16\n",
            "16\n",
            "[12.  6.  1.  3. 11.  9.  2. 10.  4.  8.  5. 22.  7. 99. nan 98. 18.]\n",
            "[ 6.  1.  3. 11. 12.  8. 10. 99.  4.  7.  5.  9. 22. nan  2. 18. 98.]\n",
            "[12. nan 11.  4.  7.  9.  2.  6.  8. 10.  5.  3. 22. 18. 99. 98.  1.]\n",
            "[nan 12.  5. 10. 11.  3.  9.  4.  8. 22.  6.  7. 18. 99. 98.  2.  1.]\n",
            "[12.  6.  1.  5. 11.  9.  2. 10.  4.  8. 22. nan  7.  3. 99. 18. 98.]\n",
            "[\"Twelve o'clock\" \"Six o'clock\" \"One o'clock\" \"Five o'clock\"\n",
            " \"Eleven o'clock\" \"Nine o'clock\" \"Two o'clock\" \"Ten o'clock\"\n",
            " \"Four o'clock\" \"Eight o'clock\" 'Underside' nan \"Seven o'clock\"\n",
            " \"Three o'clock\" 'Unknown' 'Roof Top' 'Non-collision']\n"
          ]
        }
      ]
    },
    {
      "cell_type": "code",
      "source": [
        "vehicles_refined = vehicles_refined.drop(['AREA_DAMAGED_CODE_IMP1', 'AREA_DAMAGED_CODE1', 'AREA_DAMAGED_CODE2', 'AREA_DAMAGED_CODE3', 'AREA_DAMAGED_CODE_MAIN_DESC', 'AREA_DAMAGED_CODE_MAIN'],axis = 1)\n"
      ],
      "metadata": {
        "id": "96c0gEuomabe"
      },
      "execution_count": null,
      "outputs": []
    },
    {
      "cell_type": "code",
      "source": [
        "vehicles_refined.isnull().sum()*100/len(vehicles_refined)"
      ],
      "metadata": {
        "colab": {
          "base_uri": "https://localhost:8080/"
        },
        "id": "deu663PYrH2P",
        "outputId": "3a9f5633-4457-4a77-9b27-84ddd63a947d"
      },
      "execution_count": null,
      "outputs": [
        {
          "output_type": "execute_result",
          "data": {
            "text/plain": [
              "HARM_EVENT_DESC               0.000000\n",
              "CONTI_DIRECTION_DESC         11.383509\n",
              "DAMAGE_DESC                   0.000000\n",
              "MOVEMENT_DESC                 0.000000\n",
              "VIN_NO                        0.035877\n",
              "REPORT_NO                     0.000000\n",
              "VEH_YEAR                      0.000000\n",
              "VEH_MAKE                      0.007915\n",
              "VEH_MODEL                     0.039146\n",
              "COMMERCIAL_FLAG_DESC          0.000000\n",
              "TOWED_AWAY_FLAG_DESC          0.276690\n",
              "GOING_DIRECTION_DESC         11.383509\n",
              "BODY_TYPE_DESC                0.032005\n",
              "DRIVERLESS_FLAG_DESC          1.193052\n",
              "FIRE_FLAG_DESC               15.181797\n",
              "PARKED_FLAG_DESC              0.000000\n",
              "SPEED_LIMIT                   0.000000\n",
              "HIT_AND_RUN_FLAG_DESC         0.094467\n",
              "VEHICLE_ID                    0.000000\n",
              "TOWED_VEHICLE_CONFIG_DESC     0.000000\n",
              "YEAR                          0.000000\n",
              "Quarter                       0.000000\n",
              "dtype: float64"
            ]
          },
          "metadata": {},
          "execution_count": 219
        }
      ]
    },
    {
      "cell_type": "markdown",
      "source": [
        "#### We need to handle the missing values in the columns 'CONTI_DIRECTION_DESC', 'VIN_NO', 'VEH_MAKE', 'VEH_MODEL', 'TOWED_AWAY_FLAG_DESC', 'BODY_TYPE_DESC', 'GOING_DIRECTION_DESC', 'DRIVERLESS_FLAG_DESC', 'FIRE_FLAG_DESC', 'HIT_AND_RUN_FLAG_DESC'. \n",
        "\n",
        ">  "
      ],
      "metadata": {
        "id": "Yicx_0eFVuD6"
      }
    },
    {
      "cell_type": "code",
      "source": [
        "vehicles_refined.shape"
      ],
      "metadata": {
        "colab": {
          "base_uri": "https://localhost:8080/"
        },
        "id": "v4XQaDwidvFY",
        "outputId": "56cc8483-e416-40c1-b71c-2287a6695c1f"
      },
      "execution_count": null,
      "outputs": [
        {
          "output_type": "execute_result",
          "data": {
            "text/plain": [
              "(1162313, 22)"
            ]
          },
          "metadata": {},
          "execution_count": 222
        }
      ]
    },
    {
      "cell_type": "markdown",
      "source": [
        "#### The columns 'CONTI_DIRECTION_DESC' and 'GOING_DIRECTION_DESC' have around 902768 rows that have the same value. Aprt from this, there is nothing else we infer from these two columns. I am not sure if I should remove them or not!"
      ],
      "metadata": {
        "id": "CBBfAyfBeG6g"
      }
    },
    {
      "cell_type": "code",
      "source": [
        "vehicles_refined[vehicles_refined['CONTI_DIRECTION_DESC'] == vehicles_refined['GOING_DIRECTION_DESC']]"
      ],
      "metadata": {
        "colab": {
          "base_uri": "https://localhost:8080/",
          "height": 947
        },
        "id": "_qt9vawAXBuU",
        "outputId": "a8b54683-bbfb-43f0-dc50-e6fc22a5f4cb"
      },
      "execution_count": null,
      "outputs": [
        {
          "output_type": "execute_result",
          "data": {
            "text/html": [
              "<div>\n",
              "<style scoped>\n",
              "    .dataframe tbody tr th:only-of-type {\n",
              "        vertical-align: middle;\n",
              "    }\n",
              "\n",
              "    .dataframe tbody tr th {\n",
              "        vertical-align: top;\n",
              "    }\n",
              "\n",
              "    .dataframe thead th {\n",
              "        text-align: right;\n",
              "    }\n",
              "</style>\n",
              "<table border=\"1\" class=\"dataframe\">\n",
              "  <thead>\n",
              "    <tr style=\"text-align: right;\">\n",
              "      <th></th>\n",
              "      <th>HARM_EVENT_DESC</th>\n",
              "      <th>CONTI_DIRECTION_DESC</th>\n",
              "      <th>DAMAGE_DESC</th>\n",
              "      <th>MOVEMENT_DESC</th>\n",
              "      <th>VIN_NO</th>\n",
              "      <th>REPORT_NO</th>\n",
              "      <th>VEH_YEAR</th>\n",
              "      <th>VEH_MAKE</th>\n",
              "      <th>VEH_MODEL</th>\n",
              "      <th>COMMERCIAL_FLAG_DESC</th>\n",
              "      <th>TOWED_AWAY_FLAG_DESC</th>\n",
              "      <th>GOING_DIRECTION_DESC</th>\n",
              "      <th>BODY_TYPE_DESC</th>\n",
              "      <th>DRIVERLESS_FLAG_DESC</th>\n",
              "      <th>FIRE_FLAG_DESC</th>\n",
              "      <th>PARKED_FLAG_DESC</th>\n",
              "      <th>SPEED_LIMIT</th>\n",
              "      <th>HIT_AND_RUN_FLAG_DESC</th>\n",
              "      <th>VEHICLE_ID</th>\n",
              "      <th>TOWED_VEHICLE_CONFIG_DESC</th>\n",
              "      <th>YEAR</th>\n",
              "      <th>Quarter</th>\n",
              "    </tr>\n",
              "  </thead>\n",
              "  <tbody>\n",
              "    <tr>\n",
              "      <th>1</th>\n",
              "      <td>Other Vehicle</td>\n",
              "      <td>North</td>\n",
              "      <td>Superficial</td>\n",
              "      <td>Moving Constant Speed</td>\n",
              "      <td>NMTKHMBX0JR025092</td>\n",
              "      <td>MSP7221001P</td>\n",
              "      <td>2018</td>\n",
              "      <td>TOYOTA</td>\n",
              "      <td>CAMRY</td>\n",
              "      <td>No</td>\n",
              "      <td>No</td>\n",
              "      <td>North</td>\n",
              "      <td>Passenger Car</td>\n",
              "      <td>No</td>\n",
              "      <td>No</td>\n",
              "      <td>No</td>\n",
              "      <td>55</td>\n",
              "      <td>No</td>\n",
              "      <td>0dbd4a00-c7f2-4c34-b543-c2633fe0118f</td>\n",
              "      <td>Not Applicable</td>\n",
              "      <td>2020</td>\n",
              "      <td>Q2</td>\n",
              "    </tr>\n",
              "    <tr>\n",
              "      <th>2</th>\n",
              "      <td>Other Vehicle</td>\n",
              "      <td>South</td>\n",
              "      <td>Functional</td>\n",
              "      <td>Stopped in Traffic Lane</td>\n",
              "      <td>2GNAXPEX5K6103012</td>\n",
              "      <td>DA37010040</td>\n",
              "      <td>2019</td>\n",
              "      <td>CHEVROLET</td>\n",
              "      <td>EQUINOX</td>\n",
              "      <td>No</td>\n",
              "      <td>No</td>\n",
              "      <td>South</td>\n",
              "      <td>(Sport) Utility Vehicle</td>\n",
              "      <td>No</td>\n",
              "      <td>No</td>\n",
              "      <td>No</td>\n",
              "      <td>30</td>\n",
              "      <td>No</td>\n",
              "      <td>f2c0d05c-ff70-4549-9d48-57c182eae6f2</td>\n",
              "      <td>Not Applicable</td>\n",
              "      <td>2020</td>\n",
              "      <td>Q2</td>\n",
              "    </tr>\n",
              "    <tr>\n",
              "      <th>4</th>\n",
              "      <td>Other Vehicle</td>\n",
              "      <td>East</td>\n",
              "      <td>Disabling</td>\n",
              "      <td>Slowing or Stopping</td>\n",
              "      <td>5FNRL18672B048550</td>\n",
              "      <td>AE456100BL</td>\n",
              "      <td>2002</td>\n",
              "      <td>HONDA</td>\n",
              "      <td>VAN</td>\n",
              "      <td>No</td>\n",
              "      <td>Yes</td>\n",
              "      <td>East</td>\n",
              "      <td>Passenger Car</td>\n",
              "      <td>No</td>\n",
              "      <td>No</td>\n",
              "      <td>No</td>\n",
              "      <td>35</td>\n",
              "      <td>No</td>\n",
              "      <td>23d968b0-be0e-4810-b6f0-34ef33fd7112</td>\n",
              "      <td>Not Applicable</td>\n",
              "      <td>2020</td>\n",
              "      <td>Q2</td>\n",
              "    </tr>\n",
              "    <tr>\n",
              "      <th>6</th>\n",
              "      <td>Other Vehicle</td>\n",
              "      <td>West</td>\n",
              "      <td>Functional</td>\n",
              "      <td>Moving Constant Speed</td>\n",
              "      <td>19XFC1F49HE213193</td>\n",
              "      <td>ADJ778001H</td>\n",
              "      <td>2017</td>\n",
              "      <td>HOND</td>\n",
              "      <td>4S</td>\n",
              "      <td>No</td>\n",
              "      <td>No</td>\n",
              "      <td>West</td>\n",
              "      <td>Passenger Car</td>\n",
              "      <td>No</td>\n",
              "      <td>No</td>\n",
              "      <td>No</td>\n",
              "      <td>25</td>\n",
              "      <td>No</td>\n",
              "      <td>5be2e6f2-4b9c-4ede-b442-b4d1a6e82e72</td>\n",
              "      <td>Not Applicable</td>\n",
              "      <td>2020</td>\n",
              "      <td>Q2</td>\n",
              "    </tr>\n",
              "    <tr>\n",
              "      <th>7</th>\n",
              "      <td>Other Vehicle</td>\n",
              "      <td>West</td>\n",
              "      <td>Disabling</td>\n",
              "      <td>Moving Constant Speed</td>\n",
              "      <td>4V4NC9EH0KN234696</td>\n",
              "      <td>MSP7103003M</td>\n",
              "      <td>2019</td>\n",
              "      <td>VOLVO</td>\n",
              "      <td>TR</td>\n",
              "      <td>Yes</td>\n",
              "      <td>No</td>\n",
              "      <td>West</td>\n",
              "      <td>Truck Tractor</td>\n",
              "      <td>No</td>\n",
              "      <td>No</td>\n",
              "      <td>No</td>\n",
              "      <td>70</td>\n",
              "      <td>No</td>\n",
              "      <td>9f031508-933f-4171-9e4b-d74906223cd0</td>\n",
              "      <td>1 Semi Trailer</td>\n",
              "      <td>2020</td>\n",
              "      <td>Q2</td>\n",
              "    </tr>\n",
              "    <tr>\n",
              "      <th>...</th>\n",
              "      <td>...</td>\n",
              "      <td>...</td>\n",
              "      <td>...</td>\n",
              "      <td>...</td>\n",
              "      <td>...</td>\n",
              "      <td>...</td>\n",
              "      <td>...</td>\n",
              "      <td>...</td>\n",
              "      <td>...</td>\n",
              "      <td>...</td>\n",
              "      <td>...</td>\n",
              "      <td>...</td>\n",
              "      <td>...</td>\n",
              "      <td>...</td>\n",
              "      <td>...</td>\n",
              "      <td>...</td>\n",
              "      <td>...</td>\n",
              "      <td>...</td>\n",
              "      <td>...</td>\n",
              "      <td>...</td>\n",
              "      <td>...</td>\n",
              "      <td>...</td>\n",
              "    </tr>\n",
              "    <tr>\n",
              "      <th>1334642</th>\n",
              "      <td>Fixed Object</td>\n",
              "      <td>West</td>\n",
              "      <td>Superficial</td>\n",
              "      <td>Moving Constant Speed</td>\n",
              "      <td>JH4DC54855S004092</td>\n",
              "      <td>GC9357000C</td>\n",
              "      <td>2005</td>\n",
              "      <td>ACURA</td>\n",
              "      <td>RSX</td>\n",
              "      <td>No</td>\n",
              "      <td>Yes</td>\n",
              "      <td>West</td>\n",
              "      <td>Passenger Car</td>\n",
              "      <td>No</td>\n",
              "      <td>No</td>\n",
              "      <td>No</td>\n",
              "      <td>45</td>\n",
              "      <td>No</td>\n",
              "      <td>fb66cc12-824b-49c2-877c-7c41be84d4e2</td>\n",
              "      <td>Not Applicable</td>\n",
              "      <td>2021</td>\n",
              "      <td>Q2</td>\n",
              "    </tr>\n",
              "    <tr>\n",
              "      <th>1334643</th>\n",
              "      <td>Other Vehicle</td>\n",
              "      <td>South</td>\n",
              "      <td>Disabling</td>\n",
              "      <td>Slowing or Stopping</td>\n",
              "      <td>1N4BA41E17C823025</td>\n",
              "      <td>MSP70520054</td>\n",
              "      <td>2007</td>\n",
              "      <td>NISSAN</td>\n",
              "      <td>MAXIMA</td>\n",
              "      <td>No</td>\n",
              "      <td>No</td>\n",
              "      <td>South</td>\n",
              "      <td>Passenger Car</td>\n",
              "      <td>No</td>\n",
              "      <td>No</td>\n",
              "      <td>No</td>\n",
              "      <td>50</td>\n",
              "      <td>No</td>\n",
              "      <td>42bc17a2-5fe0-4221-a8d0-ff132df37555</td>\n",
              "      <td>Not Applicable</td>\n",
              "      <td>2021</td>\n",
              "      <td>Q2</td>\n",
              "    </tr>\n",
              "    <tr>\n",
              "      <th>1334645</th>\n",
              "      <td>Other Vehicle</td>\n",
              "      <td>West</td>\n",
              "      <td>Destroyed</td>\n",
              "      <td>Moving Constant Speed</td>\n",
              "      <td>KNAE15LA7J6036235</td>\n",
              "      <td>MSP6913009N</td>\n",
              "      <td>2018</td>\n",
              "      <td>KIA</td>\n",
              "      <td>STINGER</td>\n",
              "      <td>No</td>\n",
              "      <td>Yes</td>\n",
              "      <td>West</td>\n",
              "      <td>Passenger Car</td>\n",
              "      <td>No</td>\n",
              "      <td>No</td>\n",
              "      <td>No</td>\n",
              "      <td>40</td>\n",
              "      <td>No</td>\n",
              "      <td>dc20841b-f976-455b-b649-de374172da5a</td>\n",
              "      <td>Not Applicable</td>\n",
              "      <td>2021</td>\n",
              "      <td>Q2</td>\n",
              "    </tr>\n",
              "    <tr>\n",
              "      <th>1334646</th>\n",
              "      <td>Other Vehicle</td>\n",
              "      <td>South</td>\n",
              "      <td>Superficial</td>\n",
              "      <td>Moving Constant Speed</td>\n",
              "      <td>1FDFE4FS7HDC51335</td>\n",
              "      <td>ZR0357002K</td>\n",
              "      <td>2017</td>\n",
              "      <td>FORD</td>\n",
              "      <td>ECONOLINE</td>\n",
              "      <td>Yes</td>\n",
              "      <td>No</td>\n",
              "      <td>South</td>\n",
              "      <td>Transit Bus</td>\n",
              "      <td>No</td>\n",
              "      <td>No</td>\n",
              "      <td>No</td>\n",
              "      <td>45</td>\n",
              "      <td>No</td>\n",
              "      <td>6327f782-a36c-42ca-8eeb-c70bc4b6eeff</td>\n",
              "      <td>Not Applicable</td>\n",
              "      <td>2021</td>\n",
              "      <td>Q2</td>\n",
              "    </tr>\n",
              "    <tr>\n",
              "      <th>1334648</th>\n",
              "      <td>Other Vehicle</td>\n",
              "      <td>North</td>\n",
              "      <td>Functional</td>\n",
              "      <td>Slowing or Stopping</td>\n",
              "      <td>1GNDV23147D172268</td>\n",
              "      <td>MSP7191008X</td>\n",
              "      <td>2007</td>\n",
              "      <td>CHEVROLET</td>\n",
              "      <td>UPLANDER</td>\n",
              "      <td>No</td>\n",
              "      <td>No</td>\n",
              "      <td>North</td>\n",
              "      <td>Passenger Car</td>\n",
              "      <td>No</td>\n",
              "      <td>No</td>\n",
              "      <td>No</td>\n",
              "      <td>55</td>\n",
              "      <td>No</td>\n",
              "      <td>36065ef3-abc8-421a-8bf8-8ff876721905</td>\n",
              "      <td>Not Applicable</td>\n",
              "      <td>2021</td>\n",
              "      <td>Q2</td>\n",
              "    </tr>\n",
              "  </tbody>\n",
              "</table>\n",
              "<p>902768 rows × 22 columns</p>\n",
              "</div>"
            ],
            "text/plain": [
              "        HARM_EVENT_DESC CONTI_DIRECTION_DESC  ...  YEAR Quarter\n",
              "1         Other Vehicle                North  ...  2020      Q2\n",
              "2         Other Vehicle                South  ...  2020      Q2\n",
              "4         Other Vehicle                 East  ...  2020      Q2\n",
              "6         Other Vehicle                 West  ...  2020      Q2\n",
              "7         Other Vehicle                 West  ...  2020      Q2\n",
              "...                 ...                  ...  ...   ...     ...\n",
              "1334642    Fixed Object                 West  ...  2021      Q2\n",
              "1334643   Other Vehicle                South  ...  2021      Q2\n",
              "1334645   Other Vehicle                 West  ...  2021      Q2\n",
              "1334646   Other Vehicle                South  ...  2021      Q2\n",
              "1334648   Other Vehicle                North  ...  2021      Q2\n",
              "\n",
              "[902768 rows x 22 columns]"
            ]
          },
          "metadata": {},
          "execution_count": 224
        }
      ]
    },
    {
      "cell_type": "markdown",
      "source": [
        "#### The column 'VIN_NO' is just a vehicle identification number and is going to be unique for each vehicle. Therefore, this is not going to be helpful in the statistical analysis. However, it can be used to identify the vehicle. Therefore, we keep this column as it is for now and will deal with the missing values if needed in the future analysis."
      ],
      "metadata": {
        "id": "R98bt_NDewOn"
      }
    },
    {
      "cell_type": "markdown",
      "metadata": {
        "id": "5-TUDPuTZVMa"
      },
      "source": [
        "#### Dealing with VEH_MAKE and VEH_MODEL columns\n",
        "> 1. Vehicle make seems to have lots of duplicates eg. TOYOTA, TOY and TOYA all represent the same company. As this seems to be too many variations to handle, we drop this column.\n",
        "2. Vehicle model also has around 23616 different models and it seems like they are not going to be significant for statistical analysis or to find any trends in the data. Therefore, we drop these columns."
      ]
    },
    {
      "cell_type": "code",
      "source": [
        "vehicles_refined.columns"
      ],
      "metadata": {
        "colab": {
          "base_uri": "https://localhost:8080/"
        },
        "id": "xEin8cHHfXuC",
        "outputId": "77640e20-f3fa-4219-b237-50e9421c4304"
      },
      "execution_count": null,
      "outputs": [
        {
          "output_type": "execute_result",
          "data": {
            "text/plain": [
              "Index(['HARM_EVENT_DESC', 'CONTI_DIRECTION_DESC', 'DAMAGE_DESC',\n",
              "       'MOVEMENT_DESC', 'VIN_NO', 'REPORT_NO', 'VEH_YEAR', 'VEH_MAKE',\n",
              "       'VEH_MODEL', 'COMMERCIAL_FLAG_DESC', 'TOWED_AWAY_FLAG_DESC',\n",
              "       'GOING_DIRECTION_DESC', 'BODY_TYPE_DESC', 'DRIVERLESS_FLAG_DESC',\n",
              "       'FIRE_FLAG_DESC', 'PARKED_FLAG_DESC', 'SPEED_LIMIT',\n",
              "       'HIT_AND_RUN_FLAG_DESC', 'VEHICLE_ID', 'TOWED_VEHICLE_CONFIG_DESC',\n",
              "       'YEAR', 'Quarter'],\n",
              "      dtype='object')"
            ]
          },
          "metadata": {},
          "execution_count": 226
        }
      ]
    },
    {
      "cell_type": "code",
      "source": [
        "vehicles_refined.VEH_MAKE.unique()"
      ],
      "metadata": {
        "colab": {
          "base_uri": "https://localhost:8080/"
        },
        "id": "qbJX-pb0ip1E",
        "outputId": "27a08fa3-79e6-4105-e945-c4c0961360a1"
      },
      "execution_count": null,
      "outputs": [
        {
          "output_type": "execute_result",
          "data": {
            "text/plain": [
              "array(['TOYOTA', 'CHEVROLET', 'HONDA', ..., 'RYAN', 'TOYTSCION', 'MTSU'],\n",
              "      dtype=object)"
            ]
          },
          "metadata": {},
          "execution_count": 227
        }
      ]
    },
    {
      "cell_type": "code",
      "source": [
        "vehicles_refined.VEH_MAKE.nunique()"
      ],
      "metadata": {
        "colab": {
          "base_uri": "https://localhost:8080/"
        },
        "id": "zODa5DjXizva",
        "outputId": "ac0bc399-0291-48bd-950d-78fd350726d7"
      },
      "execution_count": null,
      "outputs": [
        {
          "output_type": "execute_result",
          "data": {
            "text/plain": [
              "6851"
            ]
          },
          "metadata": {},
          "execution_count": 228
        }
      ]
    },
    {
      "cell_type": "code",
      "metadata": {
        "colab": {
          "base_uri": "https://localhost:8080/"
        },
        "id": "S3BXO-UEYNkx",
        "outputId": "ccbe6bda-f229-46e1-f26b-5b691bc89daf"
      },
      "source": [
        "vehicles_refined.VEH_MAKE.value_counts()"
      ],
      "execution_count": null,
      "outputs": [
        {
          "output_type": "execute_result",
          "data": {
            "text/plain": [
              "FORD                148628\n",
              "TOYOTA              114939\n",
              "HONDA               111630\n",
              "NISSAN               78011\n",
              "CHEVY                46595\n",
              "                     ...  \n",
              "ACURA3.2T                1\n",
              "HARLEY DAVIDISON         1\n",
              "LESUS                    1\n",
              "WRKHS                    1\n",
              "NISSANM                  1\n",
              "Name: VEH_MAKE, Length: 6851, dtype: int64"
            ]
          },
          "metadata": {},
          "execution_count": 209
        }
      ]
    },
    {
      "cell_type": "code",
      "source": [
        "vehicles_refined.VEH_MAKE.loc[vehicles_refined.VEH_MAKE.str.startswith('TOY') == True].value_counts()"
      ],
      "metadata": {
        "colab": {
          "base_uri": "https://localhost:8080/"
        },
        "id": "XQx27NPIi419",
        "outputId": "c820e59a-05fc-4727-92f5-b1d50a7c9424"
      },
      "execution_count": null,
      "outputs": [
        {
          "output_type": "execute_result",
          "data": {
            "text/plain": [
              "TOYOTA           114939\n",
              "TOYT              33580\n",
              "TOYO               1023\n",
              "TOY                 939\n",
              "TOYTA               729\n",
              "                  ...  \n",
              "TOYOVA                1\n",
              "TOYOYS                1\n",
              "TOYOYA (RED)          1\n",
              "TOYOTA - GOLD         1\n",
              "TOYOVAL2005           1\n",
              "Name: VEH_MAKE, Length: 119, dtype: int64"
            ]
          },
          "metadata": {},
          "execution_count": 236
        }
      ]
    },
    {
      "cell_type": "code",
      "source": [
        "vehicles_refined.VEH_MODEL.nunique()"
      ],
      "metadata": {
        "colab": {
          "base_uri": "https://localhost:8080/"
        },
        "id": "c3hpEhvcjTts",
        "outputId": "427f19c2-18dd-421e-a7dd-8674343459b1"
      },
      "execution_count": null,
      "outputs": [
        {
          "output_type": "execute_result",
          "data": {
            "text/plain": [
              "23616"
            ]
          },
          "metadata": {},
          "execution_count": 237
        }
      ]
    },
    {
      "cell_type": "code",
      "source": [
        "vehicles_refined = vehicles_refined.drop(['VEH_MAKE', 'VEH_MODEL'], axis = 1)"
      ],
      "metadata": {
        "id": "myAMLBIun9Dh"
      },
      "execution_count": null,
      "outputs": []
    },
    {
      "cell_type": "code",
      "source": [
        "vehicles_refined.isnull().sum() *100/len(vehicles_refined)"
      ],
      "metadata": {
        "colab": {
          "base_uri": "https://localhost:8080/"
        },
        "id": "-pBU1np3oEeD",
        "outputId": "5c01f8da-0ef4-4ad7-d0b5-b2b5a35f5644"
      },
      "execution_count": null,
      "outputs": [
        {
          "output_type": "execute_result",
          "data": {
            "text/plain": [
              "HARM_EVENT_DESC               0.000000\n",
              "CONTI_DIRECTION_DESC         11.383509\n",
              "DAMAGE_DESC                   0.000000\n",
              "MOVEMENT_DESC                 0.000000\n",
              "VIN_NO                        0.035877\n",
              "REPORT_NO                     0.000000\n",
              "VEH_YEAR                      0.000000\n",
              "COMMERCIAL_FLAG_DESC          0.000000\n",
              "TOWED_AWAY_FLAG_DESC          0.276690\n",
              "GOING_DIRECTION_DESC         11.383509\n",
              "BODY_TYPE_DESC                0.032005\n",
              "DRIVERLESS_FLAG_DESC          1.193052\n",
              "FIRE_FLAG_DESC               15.181797\n",
              "PARKED_FLAG_DESC              0.000000\n",
              "SPEED_LIMIT                   0.000000\n",
              "HIT_AND_RUN_FLAG_DESC         0.094467\n",
              "VEHICLE_ID                    0.000000\n",
              "TOWED_VEHICLE_CONFIG_DESC     0.000000\n",
              "YEAR                          0.000000\n",
              "Quarter                       0.000000\n",
              "dtype: float64"
            ]
          },
          "metadata": {},
          "execution_count": 241
        }
      ]
    },
    {
      "cell_type": "code",
      "source": [
        "vehicles_refined[['TOWED_AWAY_FLAG_DESC', 'BODY_TYPE_DESC', 'DRIVERLESS_FLAG_DESC', 'FIRE_FLAG_DESC', 'HIT_AND_RUN_FLAG_DESC', 'TOWED_VEHICLE_CONFIG_DESC']]"
      ],
      "metadata": {
        "colab": {
          "base_uri": "https://localhost:8080/",
          "height": 424
        },
        "id": "H1Q3HuVZoH9l",
        "outputId": "990b062c-518e-4ec6-c8fd-fe8794b673e4"
      },
      "execution_count": null,
      "outputs": [
        {
          "output_type": "execute_result",
          "data": {
            "text/html": [
              "<div>\n",
              "<style scoped>\n",
              "    .dataframe tbody tr th:only-of-type {\n",
              "        vertical-align: middle;\n",
              "    }\n",
              "\n",
              "    .dataframe tbody tr th {\n",
              "        vertical-align: top;\n",
              "    }\n",
              "\n",
              "    .dataframe thead th {\n",
              "        text-align: right;\n",
              "    }\n",
              "</style>\n",
              "<table border=\"1\" class=\"dataframe\">\n",
              "  <thead>\n",
              "    <tr style=\"text-align: right;\">\n",
              "      <th></th>\n",
              "      <th>TOWED_AWAY_FLAG_DESC</th>\n",
              "      <th>BODY_TYPE_DESC</th>\n",
              "      <th>DRIVERLESS_FLAG_DESC</th>\n",
              "      <th>FIRE_FLAG_DESC</th>\n",
              "      <th>HIT_AND_RUN_FLAG_DESC</th>\n",
              "      <th>TOWED_VEHICLE_CONFIG_DESC</th>\n",
              "    </tr>\n",
              "  </thead>\n",
              "  <tbody>\n",
              "    <tr>\n",
              "      <th>1</th>\n",
              "      <td>No</td>\n",
              "      <td>Passenger Car</td>\n",
              "      <td>No</td>\n",
              "      <td>No</td>\n",
              "      <td>No</td>\n",
              "      <td>Not Applicable</td>\n",
              "    </tr>\n",
              "    <tr>\n",
              "      <th>2</th>\n",
              "      <td>No</td>\n",
              "      <td>(Sport) Utility Vehicle</td>\n",
              "      <td>No</td>\n",
              "      <td>No</td>\n",
              "      <td>No</td>\n",
              "      <td>Not Applicable</td>\n",
              "    </tr>\n",
              "    <tr>\n",
              "      <th>4</th>\n",
              "      <td>Yes</td>\n",
              "      <td>Passenger Car</td>\n",
              "      <td>No</td>\n",
              "      <td>No</td>\n",
              "      <td>No</td>\n",
              "      <td>Not Applicable</td>\n",
              "    </tr>\n",
              "    <tr>\n",
              "      <th>5</th>\n",
              "      <td>No</td>\n",
              "      <td>Passenger Car</td>\n",
              "      <td>Yes</td>\n",
              "      <td>No</td>\n",
              "      <td>No</td>\n",
              "      <td>Not Applicable</td>\n",
              "    </tr>\n",
              "    <tr>\n",
              "      <th>6</th>\n",
              "      <td>No</td>\n",
              "      <td>Passenger Car</td>\n",
              "      <td>No</td>\n",
              "      <td>No</td>\n",
              "      <td>No</td>\n",
              "      <td>Not Applicable</td>\n",
              "    </tr>\n",
              "    <tr>\n",
              "      <th>...</th>\n",
              "      <td>...</td>\n",
              "      <td>...</td>\n",
              "      <td>...</td>\n",
              "      <td>...</td>\n",
              "      <td>...</td>\n",
              "      <td>...</td>\n",
              "    </tr>\n",
              "    <tr>\n",
              "      <th>1334643</th>\n",
              "      <td>No</td>\n",
              "      <td>Passenger Car</td>\n",
              "      <td>No</td>\n",
              "      <td>No</td>\n",
              "      <td>No</td>\n",
              "      <td>Not Applicable</td>\n",
              "    </tr>\n",
              "    <tr>\n",
              "      <th>1334644</th>\n",
              "      <td>No</td>\n",
              "      <td>Ambulance/Emergency</td>\n",
              "      <td>No</td>\n",
              "      <td>No</td>\n",
              "      <td>Yes</td>\n",
              "      <td>Not Applicable</td>\n",
              "    </tr>\n",
              "    <tr>\n",
              "      <th>1334645</th>\n",
              "      <td>Yes</td>\n",
              "      <td>Passenger Car</td>\n",
              "      <td>No</td>\n",
              "      <td>No</td>\n",
              "      <td>No</td>\n",
              "      <td>Not Applicable</td>\n",
              "    </tr>\n",
              "    <tr>\n",
              "      <th>1334646</th>\n",
              "      <td>No</td>\n",
              "      <td>Transit Bus</td>\n",
              "      <td>No</td>\n",
              "      <td>No</td>\n",
              "      <td>No</td>\n",
              "      <td>Not Applicable</td>\n",
              "    </tr>\n",
              "    <tr>\n",
              "      <th>1334648</th>\n",
              "      <td>No</td>\n",
              "      <td>Passenger Car</td>\n",
              "      <td>No</td>\n",
              "      <td>No</td>\n",
              "      <td>No</td>\n",
              "      <td>Not Applicable</td>\n",
              "    </tr>\n",
              "  </tbody>\n",
              "</table>\n",
              "<p>1162313 rows × 6 columns</p>\n",
              "</div>"
            ],
            "text/plain": [
              "        TOWED_AWAY_FLAG_DESC  ... TOWED_VEHICLE_CONFIG_DESC\n",
              "1                         No  ...            Not Applicable\n",
              "2                         No  ...            Not Applicable\n",
              "4                        Yes  ...            Not Applicable\n",
              "5                         No  ...            Not Applicable\n",
              "6                         No  ...            Not Applicable\n",
              "...                      ...  ...                       ...\n",
              "1334643                   No  ...            Not Applicable\n",
              "1334644                   No  ...            Not Applicable\n",
              "1334645                  Yes  ...            Not Applicable\n",
              "1334646                   No  ...            Not Applicable\n",
              "1334648                   No  ...            Not Applicable\n",
              "\n",
              "[1162313 rows x 6 columns]"
            ]
          },
          "metadata": {},
          "execution_count": 244
        }
      ]
    },
    {
      "cell_type": "code",
      "source": [
        "vehicles_refined.TOWED_AWAY_FLAG_DESC.value_counts(dropna = False)"
      ],
      "metadata": {
        "colab": {
          "base_uri": "https://localhost:8080/"
        },
        "id": "4NjkHHpVox9N",
        "outputId": "59adb8c9-b7b7-4473-97e0-5acd7a1ff4f0"
      },
      "execution_count": null,
      "outputs": [
        {
          "output_type": "execute_result",
          "data": {
            "text/plain": [
              "No     686674\n",
              "Yes    472423\n",
              "NaN      3216\n",
              "Name: TOWED_AWAY_FLAG_DESC, dtype: int64"
            ]
          },
          "metadata": {},
          "execution_count": 254
        }
      ]
    },
    {
      "cell_type": "code",
      "source": [
        "vehicles_refined.DRIVERLESS_FLAG_DESC.value_counts(dropna = False)"
      ],
      "metadata": {
        "colab": {
          "base_uri": "https://localhost:8080/"
        },
        "id": "tvhHB5OLswDF",
        "outputId": "b22c7d6e-d0fe-42c5-bdf3-6ecebb9e7141"
      },
      "execution_count": null,
      "outputs": [
        {
          "output_type": "execute_result",
          "data": {
            "text/plain": [
              "No     1032831\n",
              "Yes     115615\n",
              "NaN      13867\n",
              "Name: DRIVERLESS_FLAG_DESC, dtype: int64"
            ]
          },
          "metadata": {},
          "execution_count": 249
        }
      ]
    },
    {
      "cell_type": "code",
      "source": [
        "vehicles_refined.FIRE_FLAG_DESC.value_counts(dropna = False)"
      ],
      "metadata": {
        "colab": {
          "base_uri": "https://localhost:8080/"
        },
        "id": "uXbUHRa1s6Wx",
        "outputId": "998ecaae-ce6d-49b7-d317-fd2273184c9d"
      },
      "execution_count": null,
      "outputs": [
        {
          "output_type": "execute_result",
          "data": {
            "text/plain": [
              "No     981369\n",
              "NaN    176460\n",
              "Yes      4484\n",
              "Name: FIRE_FLAG_DESC, dtype: int64"
            ]
          },
          "metadata": {},
          "execution_count": 250
        }
      ]
    },
    {
      "cell_type": "code",
      "source": [
        "vehicles_refined.HIT_AND_RUN_FLAG_DESC.value_counts(dropna = False)"
      ],
      "metadata": {
        "colab": {
          "base_uri": "https://localhost:8080/"
        },
        "id": "edZpsOWttA5C",
        "outputId": "6b2566c3-9551-4d24-d6b3-f7828f497196"
      },
      "execution_count": null,
      "outputs": [
        {
          "output_type": "execute_result",
          "data": {
            "text/plain": [
              "No     1071776\n",
              "Yes      89439\n",
              "NaN       1098\n",
              "Name: HIT_AND_RUN_FLAG_DESC, dtype: int64"
            ]
          },
          "metadata": {},
          "execution_count": 251
        }
      ]
    },
    {
      "cell_type": "code",
      "source": [
        "vehicles_refined.TOWED_VEHICLE_CONFIG_DESC.unique()"
      ],
      "metadata": {
        "colab": {
          "base_uri": "https://localhost:8080/"
        },
        "id": "MZmvlC2etKkN",
        "outputId": "42fb35c8-0704-4882-a416-7d7cb91bb759"
      },
      "execution_count": null,
      "outputs": [
        {
          "output_type": "execute_result",
          "data": {
            "text/plain": [
              "array(['Not Applicable', '1 Semi Trailer', 'Unknown', 'Boat Trailer',\n",
              "       'Utility Trailer', '1 Full Trailer', 'Automobile',\n",
              "       '2 Full Trailers', 'Other', 'Travel/Home Trailer',\n",
              "       'Farm Equipment', 'Camper', '1 Semi + 1 Full Trailer',\n",
              "       '3 Trailers', 'Mobile Home'], dtype=object)"
            ]
          },
          "metadata": {},
          "execution_count": 252
        }
      ]
    },
    {
      "cell_type": "code",
      "metadata": {
        "colab": {
          "base_uri": "https://localhost:8080/",
          "height": 804
        },
        "id": "XfqXMufbkrYt",
        "outputId": "d00be77b-c855-473c-eff5-646efb76abc1"
      },
      "source": [
        "# body_type_desc\n",
        "plt.figure(figsize=[10,8])\n",
        "vehicles_refined.BODY_TYPE_DESC.value_counts().plot.bar()\n",
        "plt.title('Bar plot for body type')\n",
        "plt.xlabel('vehicle body type')\n",
        "plt.show()"
      ],
      "execution_count": null,
      "outputs": [
        {
          "output_type": "display_data",
          "data": {
            "image/png": "[encoded data removed]",
            "text/plain": [
              "<Figure size 720x576 with 1 Axes>"
            ]
          },
          "metadata": {
            "needs_background": "light"
          }
        }
      ]
    },
    {
      "cell_type": "markdown",
      "source": [
        "#### We will replace NaN values from 'TOWED_AWAY_FLAG_DESC', 'DRIVERLESS_FLAG_DESC', 'FIRE_FLAG_DESC', and 'HIT_AND_RUN_FLAG_DESC' with a third category 'unknown'."
      ],
      "metadata": {
        "id": "Q818BdrDuMdX"
      }
    },
    {
      "cell_type": "code",
      "source": [
        "vehicles_refined.TOWED_AWAY_FLAG_DESC.fillna('unknown', inplace = True)\n",
        "vehicles_refined.DRIVERLESS_FLAG_DESC.fillna('unknown', inplace = True)\n",
        "vehicles_refined.FIRE_FLAG_DESC.fillna('unknown', inplace = True)\n",
        "vehicles_refined.HIT_AND_RUN_FLAG_DESC.fillna('unknown', inplace = True)"
      ],
      "metadata": {
        "id": "KNmb0kxQuLcj"
      },
      "execution_count": null,
      "outputs": []
    },
    {
      "cell_type": "code",
      "source": [
        "print(vehicles_refined.TOWED_AWAY_FLAG_DESC.value_counts())\n",
        "print(vehicles_refined.DRIVERLESS_FLAG_DESC.value_counts())\n",
        "print(vehicles_refined.FIRE_FLAG_DESC.value_counts())\n",
        "print(vehicles_refined.HIT_AND_RUN_FLAG_DESC.value_counts())"
      ],
      "metadata": {
        "colab": {
          "base_uri": "https://localhost:8080/"
        },
        "id": "n5rlhu8a0rmt",
        "outputId": "101cd16a-d177-4547-ed56-eb8ff61a240a"
      },
      "execution_count": null,
      "outputs": [
        {
          "output_type": "stream",
          "name": "stdout",
          "text": [
            "No         686674\n",
            "Yes        472423\n",
            "unknown      3216\n",
            "Name: TOWED_AWAY_FLAG_DESC, dtype: int64\n",
            "No         1032831\n",
            "Yes         115615\n",
            "unknown      13867\n",
            "Name: DRIVERLESS_FLAG_DESC, dtype: int64\n",
            "No         981369\n",
            "unknown    176460\n",
            "Yes          4484\n",
            "Name: FIRE_FLAG_DESC, dtype: int64\n",
            "No         1071776\n",
            "Yes          89439\n",
            "unknown       1098\n",
            "Name: HIT_AND_RUN_FLAG_DESC, dtype: int64\n"
          ]
        }
      ]
    },
    {
      "cell_type": "code",
      "source": [
        "vehicles_refined.isnull().sum()*100/len(vehicles_refined)"
      ],
      "metadata": {
        "colab": {
          "base_uri": "https://localhost:8080/"
        },
        "id": "WXBx9bNy1bCL",
        "outputId": "fa933b44-f001-47a0-c986-535f3d16fae7"
      },
      "execution_count": null,
      "outputs": [
        {
          "output_type": "execute_result",
          "data": {
            "text/plain": [
              "HARM_EVENT_DESC               0.000000\n",
              "CONTI_DIRECTION_DESC         11.383509\n",
              "DAMAGE_DESC                   0.000000\n",
              "MOVEMENT_DESC                 0.000000\n",
              "VIN_NO                        0.035877\n",
              "REPORT_NO                     0.000000\n",
              "VEH_YEAR                      0.000000\n",
              "COMMERCIAL_FLAG_DESC          0.000000\n",
              "TOWED_AWAY_FLAG_DESC          0.000000\n",
              "GOING_DIRECTION_DESC         11.383509\n",
              "BODY_TYPE_DESC                0.032005\n",
              "DRIVERLESS_FLAG_DESC          0.000000\n",
              "FIRE_FLAG_DESC                0.000000\n",
              "PARKED_FLAG_DESC              0.000000\n",
              "SPEED_LIMIT                   0.000000\n",
              "HIT_AND_RUN_FLAG_DESC         0.000000\n",
              "VEHICLE_ID                    0.000000\n",
              "TOWED_VEHICLE_CONFIG_DESC     0.000000\n",
              "YEAR                          0.000000\n",
              "Quarter                       0.000000\n",
              "dtype: float64"
            ]
          },
          "metadata": {},
          "execution_count": 259
        }
      ]
    },
    {
      "cell_type": "markdown",
      "source": [
        "### Finally, we will conclude the data cleaning process by writing this dataframe to a seperate csv file."
      ],
      "metadata": {
        "id": "RFY4SbKz2pht"
      }
    },
    {
      "cell_type": "code",
      "source": [
        "vehicles_refined.to_csv('vehicles_refined.csv')"
      ],
      "metadata": {
        "id": "1HaOSIiI1tq9"
      },
      "execution_count": null,
      "outputs": []
    },
    {
      "cell_type": "code",
      "source": [
        "vehicles_refined.shape"
      ],
      "metadata": {
        "colab": {
          "base_uri": "https://localhost:8080/"
        },
        "id": "Y0-TtcSb3O-d",
        "outputId": "c60b53c4-0ff0-4f66-845a-474dfe538c4b"
      },
      "execution_count": null,
      "outputs": [
        {
          "output_type": "execute_result",
          "data": {
            "text/plain": [
              "(1162313, 20)"
            ]
          },
          "metadata": {},
          "execution_count": 262
        }
      ]
    },
    {
      "cell_type": "code",
      "source": [
        "vehicles_refined.isnull().sum().sort_values().plot(kind = 'bar')\n",
        "plt.show()"
      ],
      "metadata": {
        "colab": {
          "base_uri": "https://localhost:8080/",
          "height": 416
        },
        "id": "ceiypGvD_ncz",
        "outputId": "c13122e2-8d7a-478e-c6ce-85d19716f68e"
      },
      "execution_count": null,
      "outputs": [
        {
          "output_type": "display_data",
          "data": {
            "image/png": "[encoded data removed]",
            "text/plain": [
              "<Figure size 432x288 with 1 Axes>"
            ]
          },
          "metadata": {
            "needs_background": "light"
          }
        }
      ]
    },
    {
      "cell_type": "markdown",
      "source": [
        "### Some notes:\n",
        "> 1. The harm_event_desc column is also present in crashes dataset with the name harm_event_desc1 and harm_event_desc2. Need to keep this in mind when merging. \n"
      ],
      "metadata": {
        "id": "ldpRf4lmAh1A"
      }
    },
    {
      "cell_type": "code",
      "source": [
        "import pandas as pd\n",
        "vehicles_refined = pd.read_csv('/content/vehicles_refined.csv')"
      ],
      "metadata": {
        "id": "cY1qWg51VkI8"
      },
      "execution_count": 23,
      "outputs": []
    },
    {
      "cell_type": "code",
      "source": [
        "vehicles_refined.columns"
      ],
      "metadata": {
        "colab": {
          "base_uri": "https://localhost:8080/"
        },
        "id": "CmPXOxTHVsJE",
        "outputId": "a8c1530c-f9a0-461f-ba78-1898851d6538"
      },
      "execution_count": 24,
      "outputs": [
        {
          "output_type": "execute_result",
          "data": {
            "text/plain": [
              "Index(['Unnamed: 0', 'HARM_EVENT_DESC', 'CONTI_DIRECTION_DESC', 'DAMAGE_DESC',\n",
              "       'MOVEMENT_DESC', 'VIN_NO', 'REPORT_NO', 'VEH_YEAR',\n",
              "       'COMMERCIAL_FLAG_DESC', 'TOWED_AWAY_FLAG_DESC', 'GOING_DIRECTION_DESC',\n",
              "       'BODY_TYPE_DESC', 'DRIVERLESS_FLAG_DESC', 'FIRE_FLAG_DESC',\n",
              "       'PARKED_FLAG_DESC', 'SPEED_LIMIT', 'HIT_AND_RUN_FLAG_DESC',\n",
              "       'VEHICLE_ID', 'TOWED_VEHICLE_CONFIG_DESC', 'YEAR', 'Quarter'],\n",
              "      dtype='object')"
            ]
          },
          "metadata": {},
          "execution_count": 24
        }
      ]
    },
    {
      "cell_type": "code",
      "source": [
        "vehicles_refined = vehicles_refined.drop(['CONTI_DIRECTION_DESC', 'GOING_DIRECTION_DESC','VIN_NO', 'Unnamed: 0', 'BODY_TYPE_DESC', 'TOWED_VEHICLE_CONFIG_DESC'], axis =1)"
      ],
      "metadata": {
        "id": "BDjFM2apV2ej"
      },
      "execution_count": 25,
      "outputs": []
    },
    {
      "cell_type": "markdown",
      "source": [
        "#### Concatenating the flag columns"
      ],
      "metadata": {
        "id": "iYVl8MPmWPU5"
      }
    },
    {
      "cell_type": "code",
      "source": [
        "print(vehicles_refined.TOWED_AWAY_FLAG_DESC.unique())\n",
        "print(vehicles_refined.COMMERCIAL_FLAG_DESC.unique())\n",
        "print(vehicles_refined.DRIVERLESS_FLAG_DESC.unique())\n",
        "print(vehicles_refined.FIRE_FLAG_DESC.unique())\n",
        "print(vehicles_refined.PARKED_FLAG_DESC.unique())\n",
        "print(vehicles_refined.HIT_AND_RUN_FLAG_DESC.unique())\n"
      ],
      "metadata": {
        "colab": {
          "base_uri": "https://localhost:8080/"
        },
        "id": "oNA-F71EWHfL",
        "outputId": "f3ac6cdb-f5ec-4826-b6b6-38141bf53f1a"
      },
      "execution_count": 26,
      "outputs": [
        {
          "output_type": "stream",
          "name": "stdout",
          "text": [
            "['No' 'Yes' 'unknown']\n",
            "['No' 'Yes']\n",
            "['No' 'Yes' 'unknown']\n",
            "['No' 'unknown' 'Yes']\n",
            "['No' 'Yes']\n",
            "['No' 'Yes' 'unknown']\n"
          ]
        }
      ]
    },
    {
      "cell_type": "code",
      "source": [
        "vehicles_refined.TOWED_AWAY_FLAG_DESC.replace(['No', 'Yes', 'unknown'], ['0', 'T', '0'], inplace = True)\n",
        "vehicles_refined.COMMERCIAL_FLAG_DESC.replace(['No', 'Yes'], ['0', 'C'], inplace = True)\n",
        "vehicles_refined.DRIVERLESS_FLAG_DESC.replace(['No', 'Yes', 'unknown'], ['0', 'D', '0'], inplace = True)\n",
        "vehicles_refined.FIRE_FLAG_DESC.replace(['No', 'Yes', 'unknown'], ['0', 'F', '0'], inplace = True)\n",
        "vehicles_refined.PARKED_FLAG_DESC.replace(['No', 'Yes'], ['0', 'P'], inplace = True)\n",
        "vehicles_refined.HIT_AND_RUN_FLAG_DESC.replace(['No', 'Yes', 'unknown'], ['0', 'H', '0'], inplace = True)"
      ],
      "metadata": {
        "id": "VM2p0MiQXHrI"
      },
      "execution_count": 27,
      "outputs": []
    },
    {
      "cell_type": "code",
      "source": [
        "print(vehicles_refined.TOWED_AWAY_FLAG_DESC.unique())\n",
        "print(vehicles_refined.COMMERCIAL_FLAG_DESC.unique())\n",
        "print(vehicles_refined.DRIVERLESS_FLAG_DESC.unique())\n",
        "print(vehicles_refined.FIRE_FLAG_DESC.unique())\n",
        "print(vehicles_refined.PARKED_FLAG_DESC.unique())\n",
        "print(vehicles_refined.HIT_AND_RUN_FLAG_DESC.unique())\n"
      ],
      "metadata": {
        "colab": {
          "base_uri": "https://localhost:8080/"
        },
        "id": "q5S8CvqNZHk5",
        "outputId": "caac2021-3ea1-44d8-94c2-4b6ae978740f"
      },
      "execution_count": 28,
      "outputs": [
        {
          "output_type": "stream",
          "name": "stdout",
          "text": [
            "['0' 'T']\n",
            "['0' 'C']\n",
            "['0' 'D']\n",
            "['0' 'F']\n",
            "['0' 'P']\n",
            "['0' 'H']\n"
          ]
        }
      ]
    },
    {
      "cell_type": "code",
      "source": [
        "vehicles_refined['flags'] = vehicles_refined['TOWED_AWAY_FLAG_DESC'] + vehicles_refined['COMMERCIAL_FLAG_DESC'] + vehicles_refined['DRIVERLESS_FLAG_DESC'] + vehicles_refined['FIRE_FLAG_DESC'] + vehicles_refined['PARKED_FLAG_DESC'] + vehicles_refined['HIT_AND_RUN_FLAG_DESC']"
      ],
      "metadata": {
        "id": "UtKaKMTOZKqB"
      },
      "execution_count": 29,
      "outputs": []
    },
    {
      "cell_type": "code",
      "source": [
        "vehicles_refined.flags.unique()"
      ],
      "metadata": {
        "colab": {
          "base_uri": "https://localhost:8080/"
        },
        "id": "1Ze2rTUKbYpd",
        "outputId": "d69eb46a-5839-4127-c28c-97b8da39330c"
      },
      "execution_count": 30,
      "outputs": [
        {
          "output_type": "execute_result",
          "data": {
            "text/plain": [
              "array(['000000', 'T00000', '00D0P0', '0C0000', '00000H', 'TC0000',\n",
              "       'T0000H', '00D0PH', '00D000', '0000P0', '0C000H', '0000PH',\n",
              "       'T00F00', 'T0D0P0', 'T000P0', 'T00F0H', 'T0D000', '0CD0P0',\n",
              "       '0C00P0', 'TC0F00', '000F00', 'T000PH', 'T0D00H', '00D00H',\n",
              "       'TCD000', '0C0F00', '0CD000', 'T00FP0', 'TC000H', '00DFP0',\n",
              "       'T0DF0H', 'TC00P0', 'TCD0P0', '000F0H', 'T0D0PH', 'TCDF00',\n",
              "       '0CD0PH', '0C0FP0', '0C00PH', '000FP0', 'T0DFP0', 'TC0FP0',\n",
              "       '0CD00H', 'T0DF00', '00DF0H', 'T00FPH', '00DF00', '0CDFP0',\n",
              "       'TCD00H', '0CDF00', 'TC00PH'], dtype=object)"
            ]
          },
          "metadata": {},
          "execution_count": 30
        }
      ]
    },
    {
      "cell_type": "code",
      "source": [
        "vehicles_refined.flags = vehicles_refined.flags.str.replace('0','')"
      ],
      "metadata": {
        "id": "BCTB_t9xauey"
      },
      "execution_count": 34,
      "outputs": []
    },
    {
      "cell_type": "code",
      "source": [
        "vehicles_refined.flags.unique()"
      ],
      "metadata": {
        "colab": {
          "base_uri": "https://localhost:8080/"
        },
        "id": "JGcGfWPybrTr",
        "outputId": "f635a54c-a0dc-40c9-d425-0187bfe9f392"
      },
      "execution_count": 35,
      "outputs": [
        {
          "output_type": "execute_result",
          "data": {
            "text/plain": [
              "array(['', 'T', 'DP', 'C', 'H', 'TC', 'TH', 'DPH', 'D', 'P', 'CH', 'PH',\n",
              "       'TF', 'TDP', 'TP', 'TFH', 'TD', 'CDP', 'CP', 'TCF', 'F', 'TPH',\n",
              "       'TDH', 'DH', 'TCD', 'CF', 'CD', 'TFP', 'TCH', 'DFP', 'TDFH', 'TCP',\n",
              "       'TCDP', 'FH', 'TDPH', 'TCDF', 'CDPH', 'CFP', 'CPH', 'FP', 'TDFP',\n",
              "       'TCFP', 'CDH', 'TDF', 'DFH', 'TFPH', 'DF', 'CDFP', 'TCDH', 'CDF',\n",
              "       'TCPH'], dtype=object)"
            ]
          },
          "metadata": {},
          "execution_count": 35
        }
      ]
    },
    {
      "cell_type": "code",
      "source": [
        "vehicles_refined.shape"
      ],
      "metadata": {
        "colab": {
          "base_uri": "https://localhost:8080/"
        },
        "id": "XyDNlbEOcBrn",
        "outputId": "8fe22472-4800-4aa7-db14-1460122e8b86"
      },
      "execution_count": 36,
      "outputs": [
        {
          "output_type": "execute_result",
          "data": {
            "text/plain": [
              "(1162313, 16)"
            ]
          },
          "metadata": {},
          "execution_count": 36
        }
      ]
    },
    {
      "cell_type": "code",
      "source": [
        "vehicles_refined.columns"
      ],
      "metadata": {
        "colab": {
          "base_uri": "https://localhost:8080/"
        },
        "id": "Kau3_i1YcI3i",
        "outputId": "b8436b35-d505-4955-caac-65085f1a7fe2"
      },
      "execution_count": 37,
      "outputs": [
        {
          "output_type": "execute_result",
          "data": {
            "text/plain": [
              "Index(['HARM_EVENT_DESC', 'DAMAGE_DESC', 'MOVEMENT_DESC', 'REPORT_NO',\n",
              "       'VEH_YEAR', 'COMMERCIAL_FLAG_DESC', 'TOWED_AWAY_FLAG_DESC',\n",
              "       'DRIVERLESS_FLAG_DESC', 'FIRE_FLAG_DESC', 'PARKED_FLAG_DESC',\n",
              "       'SPEED_LIMIT', 'HIT_AND_RUN_FLAG_DESC', 'VEHICLE_ID', 'YEAR', 'Quarter',\n",
              "       'flags'],\n",
              "      dtype='object')"
            ]
          },
          "metadata": {},
          "execution_count": 37
        }
      ]
    },
    {
      "cell_type": "code",
      "source": [
        "vehicles_refined = vehicles_refined.drop(['TOWED_AWAY_FLAG_DESC', 'DRIVERLESS_FLAG_DESC', 'FIRE_FLAG_DESC', 'PARKED_FLAG_DESC','COMMERCIAL_FLAG_DESC','HIT_AND_RUN_FLAG_DESC'], axis = 1)"
      ],
      "metadata": {
        "id": "YxYzKlfrcQ1e"
      },
      "execution_count": 38,
      "outputs": []
    },
    {
      "cell_type": "code",
      "source": [
        "vehicles_refined.shape"
      ],
      "metadata": {
        "colab": {
          "base_uri": "https://localhost:8080/"
        },
        "id": "fxrrhkTWco5c",
        "outputId": "96b3d9a0-c28e-4d5b-f821-d1a569af2f4b"
      },
      "execution_count": 39,
      "outputs": [
        {
          "output_type": "execute_result",
          "data": {
            "text/plain": [
              "(1162313, 10)"
            ]
          },
          "metadata": {},
          "execution_count": 39
        }
      ]
    },
    {
      "cell_type": "code",
      "source": [
        "vehicles_refined.columns"
      ],
      "metadata": {
        "colab": {
          "base_uri": "https://localhost:8080/"
        },
        "id": "oUDL5RqmcsFF",
        "outputId": "8218c43e-ce0b-4890-9d3f-a95ad42a48b2"
      },
      "execution_count": 40,
      "outputs": [
        {
          "output_type": "execute_result",
          "data": {
            "text/plain": [
              "Index(['HARM_EVENT_DESC', 'DAMAGE_DESC', 'MOVEMENT_DESC', 'REPORT_NO',\n",
              "       'VEH_YEAR', 'SPEED_LIMIT', 'VEHICLE_ID', 'YEAR', 'Quarter', 'flags'],\n",
              "      dtype='object')"
            ]
          },
          "metadata": {},
          "execution_count": 40
        }
      ]
    },
    {
      "cell_type": "code",
      "source": [
        "vehicles_refined.to_csv('vehicles_refined_new.csv')"
      ],
      "metadata": {
        "id": "tBCDRHadbvmE"
      },
      "execution_count": 41,
      "outputs": []
    },
    {
      "cell_type": "code",
      "source": [
        ""
      ],
      "metadata": {
        "id": "xsVzbPbycwQ9"
      },
      "execution_count": null,
      "outputs": []
    }
  ]
}
